{
 "cells": [
  {
   "cell_type": "markdown",
   "metadata": {},
   "source": [
    "# Heasoftpy testing notebook\n",
    "\n",
    "This notebook lays out how to verify the functionality in the requirement document here:\n",
    "\n",
    "https://docs.google.com/document/d/19yX41TdxZRJ037nqk2qJJnyel_SAKqrH1a7koXQ8nU0/edit   \n"
   ]
  },
  {
   "cell_type": "markdown",
   "metadata": {},
   "source": [
    "## Import and help"
   ]
  },
  {
   "cell_type": "code",
   "execution_count": 1,
   "metadata": {},
   "outputs": [],
   "source": [
    "import os, shutil, sys"
   ]
  },
  {
   "cell_type": "code",
   "execution_count": 2,
   "metadata": {},
   "outputs": [],
   "source": [
    "sys.path.insert(0,\"/Users/tjaffe/space/sw/heasoft/\")\n",
    "import heasoftpy as hsp"
   ]
  },
  {
   "cell_type": "markdown",
   "metadata": {},
   "source": [
    "<font color=red>This is still necessary. (If not set, then the prompting below works but the tool errors off complaining about the tty.  If it's set, the prompting works (?) and then so does the tool.)  Cannot this be done on import?</font>"
   ]
  },
  {
   "cell_type": "code",
   "execution_count": 3,
   "metadata": {},
   "outputs": [],
   "source": [
    "## This should then somehow be done internally in heasoftpy, right?  Otherwise \n",
    "##  none of the below works for me.  If I don't do this, then I get:\n",
    "##  \n",
    "##  ERROR: Device not configured\n",
    "##  Task ftverify 0.0 terminating with status 6\n",
    "##  Unable to redirect prompts to the /dev/tty (at headas_stdio.c:152)\n",
    "##  \n",
    "os.environ[\"HEADASNOQUERY\"]=\"True\""
   ]
  },
  {
   "cell_type": "markdown",
   "metadata": {},
   "source": [
    "<font color=green>This correctly shows up the Docstring in the Jupyter Pager for Jupyter Notebook and here inline for JupyterLab.</font>"
   ]
  },
  {
   "cell_type": "code",
   "execution_count": 4,
   "metadata": {},
   "outputs": [],
   "source": [
    "##   The docstring currently says:\n",
    "##\n",
    "##   from heaspy import *\n",
    "##\n",
    "##   and I think we talked about how this doesn't work and doesn't need to.\n",
    "hsp?"
   ]
  },
  {
   "cell_type": "markdown",
   "metadata": {},
   "source": [
    "<font color=red>**This works, but it isn't useful to the user.  The Description should include a quick usage guide**, e.g.,\n",
    "    \n",
    "    DESCRIPTION\n",
    "\n",
    "        Python package to wrap the HEASoft tools so that they can be called from python scripts,\n",
    "        interactive ipython sessions, or Jupyter Notebooks.  \n",
    "\n",
    "        > import heasoftpy as hsp\n",
    "        > hsp.fdump?\n",
    "        ...\n",
    "        > hsp.fdump()\n",
    "        Name of FITS file and [ext#]> Crab_sum_pha.fits\n",
    "        ...\n",
    "        > result=hsp.fdump(infile='foo.fits',outfile='STDOUT',columns='RATE',rows='1-2',more='yes')\n",
    "        > params2=result.params\n",
    "        > params2['prhead']='no'\n",
    "        etc. \n",
    "\n",
    "        or\n",
    "\n",
    "          try:\n",
    "            result=hsp.ftverify(params)\n",
    "            print(\"Success\")\n",
    "          except HeasoftpyExecutionError as e:\n",
    "            print(\"Error trapped as HeasoftpyExecutionError with message:{}\".format(e))\n",
    "          except Exception as e:\n",
    "            print(\"Unexpected status--{}--\".format(e))\n",
    "    \n",
    "        Version ...\n"
   ]
  },
  {
   "cell_type": "code",
   "execution_count": 4,
   "metadata": {},
   "outputs": [
    {
     "name": "stdout",
     "output_type": "stream",
     "text": [
      "Help on package heasoftpy:\n",
      "\n",
      "NAME\n",
      "    heasoftpy - Creates a Python interface to the FTools/HTools package.\n",
      "\n",
      "DESCRIPTION\n",
      "    If there is not already a file containing a function to run a given FTools program,\n",
      "    this will create one upon import. It uses the appropriate paramter file to do this.\n",
      "    \n",
      "    Version 0.1 ME: initial version\n",
      "    Version 0.1.1 MFC: corrects identification of prompting for required, missing parameters\n",
      "    Version 0.1.2 ME: Added Error classes and handling errors when the underlying program\n",
      "                      encounters an error.\n",
      "    Version 0.1.3 ME: Added checks of function versions and replacement of functions that\n",
      "                      are outdated.\n",
      "    \n",
      "    ME = Matt Elliott\n",
      "    MFC = Mike Corcoran\n",
      "\n",
      "PACKAGE CONTENTS\n",
      "    clean_heasoftpy\n",
      "    errors\n",
      "    onthefly (package)\n",
      "    result\n",
      "    utils\n",
      "    write_fns (package)\n",
      "\n",
      "CLASSES\n",
      "    builtins.tuple(builtins.object)\n",
      "        HToolsParameter\n",
      "    \n",
      "    class HToolsParameter(builtins.tuple)\n",
      "     |  HToolsParameter(name, type, mode, default, min, max, prompt)\n",
      "     |  \n",
      "     |  HToolsParameter(name, type, mode, default, min, max, prompt)\n",
      "     |  \n",
      "     |  Method resolution order:\n",
      "     |      HToolsParameter\n",
      "     |      builtins.tuple\n",
      "     |      builtins.object\n",
      "     |  \n",
      "     |  Methods defined here:\n",
      "     |  \n",
      "     |  __getnewargs__(self)\n",
      "     |      Return self as a plain tuple.  Used by copy and pickle.\n",
      "     |  \n",
      "     |  __repr__(self)\n",
      "     |      Return a nicely formatted representation string\n",
      "     |  \n",
      "     |  _asdict(self)\n",
      "     |      Return a new dict which maps field names to their values.\n",
      "     |  \n",
      "     |  _replace(self, /, **kwds)\n",
      "     |      Return a new HToolsParameter object replacing specified fields with new values\n",
      "     |  \n",
      "     |  ----------------------------------------------------------------------\n",
      "     |  Class methods defined here:\n",
      "     |  \n",
      "     |  _make(iterable) from builtins.type\n",
      "     |      Make a new HToolsParameter object from a sequence or iterable\n",
      "     |  \n",
      "     |  ----------------------------------------------------------------------\n",
      "     |  Static methods defined here:\n",
      "     |  \n",
      "     |  __new__(_cls, name, type, mode, default, min, max, prompt)\n",
      "     |      Create new instance of HToolsParameter(name, type, mode, default, min, max, prompt)\n",
      "     |  \n",
      "     |  ----------------------------------------------------------------------\n",
      "     |  Data descriptors defined here:\n",
      "     |  \n",
      "     |  name\n",
      "     |      Alias for field number 0\n",
      "     |  \n",
      "     |  type\n",
      "     |      Alias for field number 1\n",
      "     |  \n",
      "     |  mode\n",
      "     |      Alias for field number 2\n",
      "     |  \n",
      "     |  default\n",
      "     |      Alias for field number 3\n",
      "     |  \n",
      "     |  min\n",
      "     |      Alias for field number 4\n",
      "     |  \n",
      "     |  max\n",
      "     |      Alias for field number 5\n",
      "     |  \n",
      "     |  prompt\n",
      "     |      Alias for field number 6\n",
      "     |  \n",
      "     |  ----------------------------------------------------------------------\n",
      "     |  Data and other attributes defined here:\n",
      "     |  \n",
      "     |  _field_defaults = {}\n",
      "     |  \n",
      "     |  _fields = ('name', 'type', 'mode', 'default', 'min', 'max', 'prompt')\n",
      "     |  \n",
      "     |  _fields_defaults = {}\n",
      "     |  \n",
      "     |  ----------------------------------------------------------------------\n",
      "     |  Methods inherited from builtins.tuple:\n",
      "     |  \n",
      "     |  __add__(self, value, /)\n",
      "     |      Return self+value.\n",
      "     |  \n",
      "     |  __contains__(self, key, /)\n",
      "     |      Return key in self.\n",
      "     |  \n",
      "     |  __eq__(self, value, /)\n",
      "     |      Return self==value.\n",
      "     |  \n",
      "     |  __ge__(self, value, /)\n",
      "     |      Return self>=value.\n",
      "     |  \n",
      "     |  __getattribute__(self, name, /)\n",
      "     |      Return getattr(self, name).\n",
      "     |  \n",
      "     |  __getitem__(self, key, /)\n",
      "     |      Return self[key].\n",
      "     |  \n",
      "     |  __gt__(self, value, /)\n",
      "     |      Return self>value.\n",
      "     |  \n",
      "     |  __hash__(self, /)\n",
      "     |      Return hash(self).\n",
      "     |  \n",
      "     |  __iter__(self, /)\n",
      "     |      Implement iter(self).\n",
      "     |  \n",
      "     |  __le__(self, value, /)\n",
      "     |      Return self<=value.\n",
      "     |  \n",
      "     |  __len__(self, /)\n",
      "     |      Return len(self).\n",
      "     |  \n",
      "     |  __lt__(self, value, /)\n",
      "     |      Return self<value.\n",
      "     |  \n",
      "     |  __mul__(self, value, /)\n",
      "     |      Return self*value.\n",
      "     |  \n",
      "     |  __ne__(self, value, /)\n",
      "     |      Return self!=value.\n",
      "     |  \n",
      "     |  __rmul__(self, value, /)\n",
      "     |      Return value*self.\n",
      "     |  \n",
      "     |  count(self, value, /)\n",
      "     |      Return number of occurrences of value.\n",
      "     |  \n",
      "     |  index(self, value, start=0, stop=9223372036854775807, /)\n",
      "     |      Return first index of value.\n",
      "     |      \n",
      "     |      Raises ValueError if the value is not present.\n",
      "\n",
      "DATA\n",
      "    DEFS_DIR = '/Users/tjaffe/space/sw/heasoft/heasoftpy/defs'\n",
      "    LOGGER = <Logger heasoftpy_initialization (DEBUG)>\n",
      "    LOG_NAME = 'heasoftpy_initialization_2020-02-20_093344.log'\n",
      "    PERMITTED_MODES = {'A': 'a', 'H': 'h', 'L': 'l', 'Q': 'q', 'a': 'a', '...\n",
      "    PERMITTED_TYPES = ['b', 'i', 'r', 's', 'f']\n",
      "    PFILES_DIR = '/Users/tjaffe/space/sw/heasoft/heasoft-6.22.1/x86_64-app...\n",
      "    THIS_MODULE_DIR = '/Users/tjaffe/space/sw/heasoft/heasoftpy'\n",
      "    THIS_MOD_VER = <heasoftpy.utils.ProgramVersion object>\n",
      "    dbg_msg = 'Entering heasoftpy module at 2020-02-20 09:33:44'\n",
      "    func_mod_ver = <heasoftpy.utils.ProgramVersion object>\n",
      "    func_module_path = '/Users/tjaffe/space/sw/heasoft/heasoftpy/defs/batm...\n",
      "    log_dt_lst = ['2', '0', '2', '0', '-', '0', '2', '-', '2', '0', '_', '...\n",
      "    logfile_datetime = '2020-02-20_093344'\n",
      "    par_file = 'batmasktaglc.par'\n",
      "    spec = ModuleSpec(name='batmasktaglc', loader=<_frozen_...space/sw/hea...\n",
      "    task_name = 'batmasktaglc'\n",
      "\n",
      "VERSION\n",
      "    0.1.3\n",
      "\n",
      "FILE\n",
      "    /Users/tjaffe/space/sw/heasoft/heasoftpy/__init__.py\n",
      "\n",
      "\n"
     ]
    }
   ],
   "source": [
    "help(hsp)"
   ]
  },
  {
   "cell_type": "code",
   "execution_count": 5,
   "metadata": {},
   "outputs": [
    {
     "ename": "AttributeError",
     "evalue": "module 'heasoftpy' has no attribute 'help'",
     "output_type": "error",
     "traceback": [
      "\u001b[0;31m---------------------------------------------------------------------------\u001b[0m",
      "\u001b[0;31mAttributeError\u001b[0m                            Traceback (most recent call last)",
      "\u001b[0;32m<ipython-input-5-0ae117674bc6>\u001b[0m in \u001b[0;36m<module>\u001b[0;34m\u001b[0m\n\u001b[0;32m----> 1\u001b[0;31m \u001b[0mhsp\u001b[0m\u001b[0;34m.\u001b[0m\u001b[0mhelp\u001b[0m\u001b[0;34m(\u001b[0m\u001b[0;34m)\u001b[0m\u001b[0;34m\u001b[0m\u001b[0;34m\u001b[0m\u001b[0m\n\u001b[0m",
      "\u001b[0;31mAttributeError\u001b[0m: module 'heasoftpy' has no attribute 'help'"
     ]
    }
   ],
   "source": [
    "hsp.help()"
   ]
  },
  {
   "cell_type": "markdown",
   "metadata": {},
   "source": [
    "<font color=green>Prompting now works in a notebook</font>  **<font color=red>But it does not present the default values to accept, which I think it should.</font>**"
   ]
  },
  {
   "cell_type": "markdown",
   "metadata": {},
   "source": [
    "<font color=green>This also shows up in the pager and shows the parameters.  </font>"
   ]
  },
  {
   "cell_type": "code",
   "execution_count": 5,
   "metadata": {},
   "outputs": [],
   "source": [
    "hsp.fdump?"
   ]
  },
  {
   "cell_type": "markdown",
   "metadata": {},
   "source": [
    "<font color=red>Still no help function.  The question mark gives you the parameters, good.  But what about the full fhelp?  This should just call fhelp.</font>"
   ]
  },
  {
   "cell_type": "code",
   "execution_count": 6,
   "metadata": {},
   "outputs": [
    {
     "ename": "AttributeError",
     "evalue": "'function' object has no attribute 'help'",
     "output_type": "error",
     "traceback": [
      "\u001b[0;31m---------------------------------------------------------------------------\u001b[0m",
      "\u001b[0;31mAttributeError\u001b[0m                            Traceback (most recent call last)",
      "\u001b[0;32m<ipython-input-6-6c9f17c05293>\u001b[0m in \u001b[0;36m<module>\u001b[0;34m\u001b[0m\n\u001b[1;32m      1\u001b[0m \u001b[0;31m##  I think we want something like this to print the help for ftverify\u001b[0m\u001b[0;34m\u001b[0m\u001b[0;34m\u001b[0m\u001b[0;34m\u001b[0m\u001b[0m\n\u001b[0;32m----> 2\u001b[0;31m \u001b[0mhsp\u001b[0m\u001b[0;34m.\u001b[0m\u001b[0mftverify\u001b[0m\u001b[0;34m.\u001b[0m\u001b[0mhelp\u001b[0m\u001b[0;34m(\u001b[0m\u001b[0;34m)\u001b[0m\u001b[0;34m\u001b[0m\u001b[0;34m\u001b[0m\u001b[0m\n\u001b[0m",
      "\u001b[0;31mAttributeError\u001b[0m: 'function' object has no attribute 'help'"
     ]
    }
   ],
   "source": [
    "##  I think we want something like this to print the help for ftverify\n",
    "hsp.ftverify.help()"
   ]
  },
  {
   "cell_type": "markdown",
   "metadata": {},
   "source": [
    "<font color=red>**BRoken for me**</font>"
   ]
  },
  {
   "cell_type": "code",
   "execution_count": 7,
   "metadata": {},
   "outputs": [
    {
     "name": "stdout",
     "output_type": "stream",
     "text": [
      "Task name> ftverify\n"
     ]
    },
    {
     "ename": "HeasoftpyExecutionError",
     "evalue": "\nError running: fhelp\nreturncode: 2\noutput:\nCan't load '/Users/tjaffe/space/sw/heasoft/heasoft-6.22.1/x86_64-apple-darwin17.4.0/lib/perl/auto/HEACORE/PIL/PIL.bundle' for module HEACORE::PIL: dlopen(/Users/tjaffe/space/sw/heasoft/heasoft-6.22.1/x86_64-apple-darwin17.4.0/lib/perl/auto/HEACORE/PIL/PIL.bundle, 1): Library not loaded: @rpath/libhdinit_2.7.dylib\n  Referenced from: /Users/tjaffe/space/sw/heasoft/heasoft-6.22.1/x86_64-apple-darwin17.4.0/lib/perl/auto/HEACORE/PIL/PIL.bundle\n  Reason: image not found at /System/Library/Perl/5.18/darwin-thread-multi-2level/DynaLoader.pm line 194.\n at /Users/tjaffe/space/sw/heasoft/heasoft-6.22.1/x86_64-apple-darwin17.4.0/bin/fhelp line 96.\nCompilation failed in require at /Users/tjaffe/space/sw/heasoft/heasoft-6.22.1/x86_64-apple-darwin17.4.0/bin/fhelp line 96.\nBEGIN failed--compilation aborted at /Users/tjaffe/space/sw/heasoft/heasoft-6.22.1/x86_64-apple-darwin17.4.0/bin/fhelp line 96.\n",
     "output_type": "error",
     "traceback": [
      "\u001b[0;31m---------------------------------------------------------------------------\u001b[0m",
      "\u001b[0;31mHeasoftpyExecutionError\u001b[0m                   Traceback (most recent call last)",
      "\u001b[0;32m<ipython-input-7-1a5bd2ffa9fd>\u001b[0m in \u001b[0;36m<module>\u001b[0;34m\u001b[0m\n\u001b[1;32m      1\u001b[0m \u001b[0;31m# This errors if you give an argument like a tool name.  And if you don't, this:\u001b[0m\u001b[0;34m\u001b[0m\u001b[0;34m\u001b[0m\u001b[0;34m\u001b[0m\u001b[0m\n\u001b[0;32m----> 2\u001b[0;31m \u001b[0mhsp\u001b[0m\u001b[0;34m.\u001b[0m\u001b[0mfhelp\u001b[0m\u001b[0;34m(\u001b[0m\u001b[0;34m)\u001b[0m\u001b[0;34m\u001b[0m\u001b[0;34m\u001b[0m\u001b[0m\n\u001b[0m",
      "\u001b[0;32m~/space/sw/heasoft/heasoftpy/defs/fhelp.py\u001b[0m in \u001b[0;36mfhelp\u001b[0;34m(**kwargs)\u001b[0m\n\u001b[1;32m     60\u001b[0m     \u001b[0mtask_res\u001b[0m \u001b[0;34m=\u001b[0m \u001b[0mhsp_res\u001b[0m\u001b[0;34m.\u001b[0m\u001b[0mResult\u001b[0m\u001b[0;34m(\u001b[0m\u001b[0mtask_proc\u001b[0m\u001b[0;34m.\u001b[0m\u001b[0mreturncode\u001b[0m\u001b[0;34m,\u001b[0m \u001b[0mtask_out\u001b[0m\u001b[0;34m,\u001b[0m \u001b[0mtask_err\u001b[0m\u001b[0;34m,\u001b[0m \u001b[0mtask_params\u001b[0m\u001b[0;34m)\u001b[0m\u001b[0;34m\u001b[0m\u001b[0;34m\u001b[0m\u001b[0m\n\u001b[1;32m     61\u001b[0m     \u001b[0;32mif\u001b[0m \u001b[0mtask_res\u001b[0m\u001b[0;34m.\u001b[0m\u001b[0mreturncode\u001b[0m\u001b[0;34m:\u001b[0m\u001b[0;34m\u001b[0m\u001b[0;34m\u001b[0m\u001b[0m\n\u001b[0;32m---> 62\u001b[0;31m         \u001b[0;32mraise\u001b[0m \u001b[0mhsp_err\u001b[0m\u001b[0;34m.\u001b[0m\u001b[0mHeasoftpyExecutionError\u001b[0m\u001b[0;34m(\u001b[0m\u001b[0margs\u001b[0m\u001b[0;34m[\u001b[0m\u001b[0;36m0\u001b[0m\u001b[0;34m]\u001b[0m\u001b[0;34m,\u001b[0m \u001b[0mtask_res\u001b[0m\u001b[0;34m)\u001b[0m\u001b[0;34m\u001b[0m\u001b[0;34m\u001b[0m\u001b[0m\n\u001b[0m\u001b[1;32m     63\u001b[0m     \u001b[0;32mreturn\u001b[0m \u001b[0mtask_res\u001b[0m\u001b[0;34m\u001b[0m\u001b[0;34m\u001b[0m\u001b[0m\n",
      "\u001b[0;31mHeasoftpyExecutionError\u001b[0m: \nError running: fhelp\nreturncode: 2\noutput:\nCan't load '/Users/tjaffe/space/sw/heasoft/heasoft-6.22.1/x86_64-apple-darwin17.4.0/lib/perl/auto/HEACORE/PIL/PIL.bundle' for module HEACORE::PIL: dlopen(/Users/tjaffe/space/sw/heasoft/heasoft-6.22.1/x86_64-apple-darwin17.4.0/lib/perl/auto/HEACORE/PIL/PIL.bundle, 1): Library not loaded: @rpath/libhdinit_2.7.dylib\n  Referenced from: /Users/tjaffe/space/sw/heasoft/heasoft-6.22.1/x86_64-apple-darwin17.4.0/lib/perl/auto/HEACORE/PIL/PIL.bundle\n  Reason: image not found at /System/Library/Perl/5.18/darwin-thread-multi-2level/DynaLoader.pm line 194.\n at /Users/tjaffe/space/sw/heasoft/heasoft-6.22.1/x86_64-apple-darwin17.4.0/bin/fhelp line 96.\nCompilation failed in require at /Users/tjaffe/space/sw/heasoft/heasoft-6.22.1/x86_64-apple-darwin17.4.0/bin/fhelp line 96.\nBEGIN failed--compilation aborted at /Users/tjaffe/space/sw/heasoft/heasoft-6.22.1/x86_64-apple-darwin17.4.0/bin/fhelp line 96.\n"
     ]
    }
   ],
   "source": [
    "# This errors if you give a tool name either as the argument or at the prompt.  \n",
    "hsp.fhelp()"
   ]
  },
  {
   "cell_type": "markdown",
   "metadata": {},
   "source": [
    "## Running and results\n",
    "\n",
    "<font color=green>Returned data object:</font>"
   ]
  },
  {
   "cell_type": "code",
   "execution_count": 17,
   "metadata": {},
   "outputs": [
    {
     "data": {
      "text/plain": [
       "Result(returncode=0, stdout=' \\n \\n        STAT_ERR\\n        count/s\\n      1   9.468074056581779E-02\\n      2   6.595265185380932E-02\\n', stderr=None, params={'infile': 'Crab_sum_pha.fits', 'outfile': 'STDOUT', 'columns': 'STAT_ERR', 'rows': '1-2', 'more': 'n', 'prhead': 'no'}, custom=None)"
      ]
     },
     "execution_count": 17,
     "metadata": {},
     "output_type": "execute_result"
    }
   ],
   "source": [
    "#  By default, everything to STDOUT\n",
    "result=hsp.fdump(infile='Crab_sum_pha.fits',outfile='STDOUT',columns='STAT_ERR',rows='1-2',more='n',prhead='no')\n",
    "result"
   ]
  },
  {
   "cell_type": "markdown",
   "metadata": {},
   "source": [
    "Seeing what's happening with error handling.  This example should produce errors.  \n",
    "\n",
    "<font color=green>Error successfully trapped as an execution error from the tool</font>"
   ]
  },
  {
   "cell_type": "code",
   "execution_count": 28,
   "metadata": {},
   "outputs": [
    {
     "name": "stdout",
     "output_type": "stream",
     "text": [
      "Error successfully trapped as HeasoftpyExecutionError with message:\n",
      "Error running: fdump\n",
      "returncode: 1\n",
      "output:\n",
      "fdump3.5 : unable to open infile\n",
      "\n"
     ]
    }
   ],
   "source": [
    "from heasoftpy.errors import HeasoftpyExecutionError\n",
    "try:\n",
    "    result=hsp.fdump(infile='foo.fits',outfile='STDOUT',columns='-',rows='-',more='y')\n",
    "    result\n",
    "except HeasoftpyExecutionError as e:\n",
    "    print(\"Error successfully trapped as HeasoftpyExecutionError with message:{}\".format(e))\n",
    "except Exception as e:\n",
    "    print(\"Unexpected status--{}--\".format(e))"
   ]
  },
  {
   "cell_type": "markdown",
   "metadata": {},
   "source": [
    "Ftverify is an interesting case.  It can print things to STDERR but usually returns a good error status anyway.  How is this handled in heasofpy?"
   ]
  },
  {
   "cell_type": "markdown",
   "metadata": {},
   "source": [
    "Split errors to stderr instead"
   ]
  },
  {
   "cell_type": "code",
   "execution_count": 41,
   "metadata": {},
   "outputs": [
    {
     "name": "stdout",
     "output_type": "stream",
     "text": [
      "*** Error:   Keyword #37, DATE-END: (from CFITSIO error stack:)\n",
      "             input date string has illegal format:\n",
      "             UTC_format\n",
      "             \n",
      "*** Error:   Keyword #36, DATE-OBS: (from CFITSIO error stack:)\n",
      "             input date string has illegal format:\n",
      "             UTC_format\n",
      "             \n",
      "\n",
      "--\n",
      "None\n"
     ]
    }
   ],
   "source": [
    "## Tell it to separate out STDERR.  \n",
    "if os.path.exists(\"ftverify.out\"):\n",
    "    os.unlink(\"ftverify.out\")\n",
    "result=hsp.ftverify(\n",
    "    infile='Crab_sum_pha.fits',\n",
    "    numerrs=10,numwrns=10,\n",
    "    outfile=\"ftverify.out\")\n",
    "print(result.stdout)\n",
    "print(\"--\")\n",
    "print(result.stderr)"
   ]
  },
  {
   "cell_type": "code",
   "execution_count": 40,
   "metadata": {},
   "outputs": [
    {
     "name": "stdout",
     "output_type": "stream",
     "text": [
      "\n",
      "--\n",
      "*** Error:   Keyword #37, DATE-END: (from CFITSIO error stack:)\n",
      "             input date string has illegal format:\n",
      "             UTC_format\n",
      "             \n",
      "*** Error:   Keyword #36, DATE-OBS: (from CFITSIO error stack:)\n",
      "             input date string has illegal format:\n",
      "             UTC_format\n",
      "             \n",
      "\n"
     ]
    }
   ],
   "source": [
    "## Tell it to separate out STDERR.  \n",
    "if os.path.exists(\"ftverify.out\"):\n",
    "    os.unlink(\"ftverify.out\")\n",
    "result=hsp.ftverify(\n",
    "    infile='Crab_sum_pha.fits',\n",
    "    numerrs=10,numwrns=10,\n",
    "    outfile=\"ftverify.out\",\n",
    "    stderr=True)\n",
    "print(result.stdout)\n",
    "print(\"--\")\n",
    "print(result.stderr)"
   ]
  },
  {
   "cell_type": "markdown",
   "metadata": {},
   "source": [
    "## Parameter interface\n",
    "\n",
    "### Interactive\n",
    "\n",
    "<font color=green>This should then prompt for the non-hidden fdump parameters, which it does:</font>"
   ]
  },
  {
   "cell_type": "code",
   "execution_count": 54,
   "metadata": {},
   "outputs": [
    {
     "name": "stdout",
     "output_type": "stream",
     "text": [
      "Name of FITS file and [ext#]> Crab_sum_pha.fits\n",
      "Name of optional output file> STDOUT\n",
      "Names of columns> RATE\n",
      "Lists of rows> 1-2\n",
      "More?> yes\n",
      "SIMPLE  =                    T / file does conform to FITS standard\n",
      "BITPIX  =                    8 / number of bits per data pixel\n",
      "NAXIS   =                    0 / number of data axes\n",
      "EXTEND  =                    T / FITS dataset may contain extensions\n",
      "COMMENT   FITS (Flexible Image Transport System) format is defined in 'Astronomy\n",
      "COMMENT   and Astrophysics', volume 376, page 359; bibcode: 2001A&A...376..359H\n",
      "COMMENT\n",
      "COMMENT This file was written by the ISDC Data Access Layer (DAL) version\n",
      "COMMENT 3.0.2. For Questions or further information contact the ISDC at:\n",
      "COMMENT\n",
      "COMMENT      INTEGRAL Science Data Centre\n",
      "COMMENT      Chemin d'Ecogia 16\n",
      "COMMENT      CH-1290 Versoix, Switzerland\n",
      "COMMENT\n",
      "COMMENT The data structures within make use of the FITS Hierarchical\n",
      "COMMENT Grouping Convention by Jennings, Pence, Folk and Schlesinger. See\n",
      "COMMENT The NASA/GSFC FITS Users Guide Version 4.0 for more information.\n",
      "COMMENT Cfitsio version: 2.490000\n",
      "END\n",
      " \n",
      "XTENSION= 'BINTABLE'           / Binary table extension\n",
      "BITPIX  =                    8 / 8-bit bytes\n",
      "NAXIS   =                    2 / 2-dimensional binary table\n",
      "NAXIS1  =                   30 / width of table in bytes\n",
      "NAXIS2  =                   16 / number of rows in table\n",
      "PCOUNT  =                    0 / size of special data area\n",
      "GCOUNT  =                    1 / one data group (required keyword)\n",
      "TFIELDS =                    6 / number of fields in each row\n",
      "TTYPE1  = 'CHANNEL '           / Channel number\n",
      "TFORM1  = '1I      '           / Format of column CHANNEL\n",
      "TTYPE2  = 'RATE    '           / Countrate in the given channel\n",
      "TFORM2  = '1D      '           / Format of column RATE\n",
      "TTYPE3  = 'STAT_ERR'           / Statistical error\n",
      "TFORM3  = '1D      '           / Format of column STAT_ERR\n",
      "TTYPE4  = 'SYS_ERR '           / Fractional systematic error [0,1]\n",
      "TFORM4  = '1D      '           / Format of column SYS_ERR\n",
      "TTYPE5  = 'QUALITY '           / Quality flag\n",
      "TFORM5  = '1I      '           / Format of column QUALITY\n",
      "TTYPE6  = 'GROUPING'           / Grouping flag\n",
      "TFORM6  = '1I      '           / Format of column GROUPING\n",
      "EXTNAME = 'ISGR-PHA1-SPE'      / Extension name\n",
      "EXTREL  = '7.9     '           / ISDC release number\n",
      "BASETYPE= 'DAL_TABLE'          / Data Access Layer base type\n",
      "TELESCOP= 'INTEGRAL'           / Telescope or mission name\n",
      "ORIGIN  = 'ISDC    '           / Origin of FITS file\n",
      "INSTRUME= 'IBIS    '           / Instrument name\n",
      "DETNAM  = 'ISGRI   '           / Name of the detector layer\n",
      "ISDCLEVL= 'SPE     '           / ISDC level of data processing\n",
      "CREATOR = 'spe_pick 3.0'       / Executable which created or modified this data\n",
      "CONFIGUR= 'osa_5.1 '           / Software system configuration\n",
      "DATE    = '2006-07-26T19:16:16' / Creation or modification date\n",
      "MJDREF  =               51544. / Modified Julian Date of time origin\n",
      "TIMESYS = 'TT      '           / Time frame system\n",
      "TIMEUNIT= 'd       '           / Time unit\n",
      "TIMEREF = 'LOCAL   '           / Time reference frame\n",
      "DATE-OBS= 'UTC_format'         / Date of the start of the observation\n",
      "DATE-END= 'UTC_format'         / Date of the end of the observation\n",
      "TSTART  =     1144.28361018338 / Start time of the observation\n",
      "TSTOP   =      1937.9504867076 / End time of the observation\n",
      "TELAPSE =     68570382.0099476 / [s] Total elapsed time of the data\n",
      "ONTIME  =     391117.999996185 / [s] Sum of good time intervals\n",
      "DEADC   =    0.775615234255207 / Dead-time correction factor\n",
      "EXPOSURE=     288874.247413609 / [s] Effective exposure time\n",
      "RADECSYS= 'FK5     '           / Stellar reference frame\n",
      "EQUINOX =                2000. / Coordinate system equinox\n",
      "RA_OBJ  =     83.6281051635742 / Source right ascension in degrees\n",
      "DEC_OBJ =     22.0165615081787 / Source declination in degrees\n",
      "SOURCEID= 'J053432.0+220052'   / ISDC unique source identifier\n",
      "NAME    = 'Crab    '           / One commonly used name for the source\n",
      "OGID    = 'disk200_IBIS'       / Observation Group identifier\n",
      "CHANTYPE= 'PI      '           / Channels remapped to Pulse Invariant channels\n",
      "DETCHANS=                   16 / Total number of detector channels\n",
      "POISSERR=                    F / Poisson error not appropriate (use STAT_ERR)\n",
      "HDUCLASS= 'OGIP    '           / Format conforms mostly to OGIP standards\n",
      "HDUCLAS1= 'SPECTRUM'           / Dataset contains a spectrum\n",
      "HDUCLAS2= 'NET     '           / Extension is background subtracted\n",
      "HDUCLAS3= 'RATE    '           / Extension contains a countrate\n",
      "HDUVERS = '1.2.0   '           / Version of format\n",
      "AREASCAL=                   1. / Nominal effective area\n",
      "BACKSCAL=                   1. / Background scale factor\n",
      "CORRSCAL=                   0. / Correction scale factor\n",
      "BACKFILE= 'NONE    '           / Background file\n",
      "CORRFILE= 'NONE    '           / Correction file\n",
      "RESPFILE= 'Crab_rmf.fits'\n",
      "ANCRFILE= 'Crab_sum_arf.fits'  / Ancillary response file (ARF)\n",
      "TLMIN1  =                    0 / Minimum legal value of column CHANNEL\n",
      "TLMAX1  =                   15 / Maximum legal value of column CHANNEL\n",
      "TUNIT2  = 'count/s '           / Unit of column RATE\n",
      "TUNIT3  = 'count/s '           / Unit of column STAT_ERR\n",
      "TUNIT4  = '        '           / Unit of column SYS_ERR\n",
      "EXTVER  =                    1 / auto assigned by template parser\n",
      "CHECKSUM= 'RRaBURZ9RRaARRW7'   / HDU checksum updated 2006-07-26T19:16:16\n",
      "DATASUM = '2798173205'         / data unit checksum updated 2006-07-26T19:16:16\n",
      "TFIRST  =     1144.28361223341 / [d] Start of the integration time interval in I\n",
      "TLAST   =      1937.9222929041 / [d] End of the integration time interval in IJD\n",
      "STAMP   = '2006-07-26T19:16:16 spe_pick 3.0'\n",
      "COMMENT STAMP : Calculated mean spectrum\n",
      "HISTORY File modified by user 'beckmann' with fv  on 2006-07-26T15:32:00\n",
      "HISTORY File modified by user 'beckmann' with fv  on 2006-07-26T15:32:18\n",
      "HISTORY File modified by user 'beckmann' with fv  on 2006-07-26T15:33:01\n",
      "FOOXXXXX= 'Bar none'\n",
      "END\n",
      " \n",
      "        RATE\n",
      "        count/s\n",
      "      1  -2.291760332925691E-01\n",
      "      2   6.312281554294670E+01\n",
      "\n"
     ]
    }
   ],
   "source": [
    "result=hsp.fdump()\n",
    "print(result.stdout)"
   ]
  },
  {
   "cell_type": "markdown",
   "metadata": {},
   "source": [
    "<font color=red>**Why does this prompt differently from the command line:**  It looks like heasoftpy is doing the righ tthing and ftverify on the command line is not.  These params have mode a, and the 'mode' parameter itself is set to 'ql'.  So why does ftverify NOT query for them?</font>\n",
    "\n",
    "<code>\n",
    "In [4]: hsp.ftverify()\n",
    "Name of FITS file to verify > foo.fits\n",
    "number of errors (output) > -\n",
    "number of warnings (output) > -\n",
    "Out[4]: Result(returncode=0, stdout=' \\n               ftverify 4.18 (CFITSIO V3.420)               \\n               ------------------------------               \\n \\nHEASARC conventions are being checked.\\n \\nFile: foo.fits\\n*** Error:   (from CFITSIO error stack:)\\n             failed to find or open the following file: (ffopen)\\n             foo.fits\\n             \\n**** Abort Verification: Fatal Error. ****\\n', stderr=None, params={'infile': 'foo.fits', 'numerrs': '-', 'numwrns': '-'}, custom=None)\n",
    "\n",
    "\n",
    "Suspended\n",
    "(hspdev) 9:43 ~/space/sw/heasoft > ftverify foo.fits\n",
    "\n",
    "               ftverify 4.18 (CFITSIO V3.420)\n",
    "               ------------------------------\n",
    "\n",
    "HEASARC conventions are being checked.\n",
    "\n",
    "File: foo.fits\n",
    "*** Error:   (from CFITSIO error stack:)\n",
    "             failed to find or open the following file: (ffopen)\n",
    "             foo.fits\n",
    "\n",
    "**** Abort Verification: Fatal Error. ****\n",
    "</code>"
   ]
  },
  {
   "cell_type": "markdown",
   "metadata": {},
   "source": [
    "<font color=green>It also returns a params dictionary that you can hand it back again</font>"
   ]
  },
  {
   "cell_type": "code",
   "execution_count": 57,
   "metadata": {},
   "outputs": [
    {
     "name": "stdout",
     "output_type": "stream",
     "text": [
      "{'infile': 'Crab_sum_pha.fits', 'outfile': 'STDOUT', 'columns': 'RATE', 'rows': '1-2', 'more': 'yes', 'prhead': 'no'}\n",
      " \n",
      " \n",
      "        RATE\n",
      "        count/s\n",
      "      1  -2.291760332925691E-01\n",
      "      2   6.312281554294670E+01\n",
      "\n"
     ]
    }
   ],
   "source": [
    "print(result.params)\n",
    "result.params['prhead']='no'\n",
    "print(hsp.fdump(**result.params).stdout)"
   ]
  },
  {
   "cell_type": "markdown",
   "metadata": {},
   "source": [
    "### Learning behavior\n",
    "\n",
    "<font color=green>This seems to work</font>"
   ]
  },
  {
   "cell_type": "code",
   "execution_count": 58,
   "metadata": {},
   "outputs": [
    {
     "data": {
      "text/plain": [
       "[]"
      ]
     },
     "execution_count": 58,
     "metadata": {},
     "output_type": "execute_result"
    }
   ],
   "source": [
    "## Set up a local pfiles we can mess with\n",
    "if os.path.exists(\"pfiles.local\"):\n",
    "    shutil.rmtree(\"pfiles.local\")\n",
    "os.mkdir(\"pfiles.local\")\n",
    "os.environ[\"PFILES\"]=\"./pfiles.local;/Users/tjaffe/space/sw/heasoft/heasoft-6.22.1/x86_64-apple-darwin17.4.0/syspfiles\"\n",
    "os.listdir(\"pfiles.local\")"
   ]
  },
  {
   "cell_type": "code",
   "execution_count": 59,
   "metadata": {},
   "outputs": [
    {
     "data": {
      "text/plain": [
       "'./pfiles.local;/Users/tjaffe/space/sw/heasoft/heasoft-6.22.1/x86_64-apple-darwin17.4.0/syspfiles'"
      ]
     },
     "execution_count": 59,
     "metadata": {},
     "output_type": "execute_result"
    }
   ],
   "source": [
    "os.environ['PFILES']"
   ]
  },
  {
   "cell_type": "markdown",
   "metadata": {},
   "source": [
    "Nothing in the pfiles.  Call with just the required input parameter:"
   ]
  },
  {
   "cell_type": "code",
   "execution_count": 60,
   "metadata": {
    "scrolled": true
   },
   "outputs": [
    {
     "data": {
      "text/plain": [
       "Result(returncode=0, stdout=\"SIMPLE  =                    T / file does conform to FITS standard\\nBITPIX  =                    8 / number of bits per data pixel\\nNAXIS   =                    0 / number of data axes\\nEXTEND  =                    T / FITS dataset may contain extensions\\nCOMMENT   FITS (Flexible Image Transport System) format is defined in 'Astronomy\\nCOMMENT   and Astrophysics', volume 376, page 359; bibcode: 2001A&A...376..359H\\nCOMMENT\\nCOMMENT This file was written by the ISDC Data Access Layer (DAL) version\\nCOMMENT 3.0.2. For Questions or further information contact the ISDC at:\\nCOMMENT\\nCOMMENT      INTEGRAL Science Data Centre\\nCOMMENT      Chemin d'Ecogia 16\\nCOMMENT      CH-1290 Versoix, Switzerland\\nCOMMENT\\nCOMMENT The data structures within make use of the FITS Hierarchical\\nCOMMENT Grouping Convention by Jennings, Pence, Folk and Schlesinger. See\\nCOMMENT The NASA/GSFC FITS Users Guide Version 4.0 for more information.\\nCOMMENT Cfitsio version: 2.490000\\nEND\\n \\nXTENSION= 'BINTABLE'           / Binary table extension\\nBITPIX  =                    8 / 8-bit bytes\\nNAXIS   =                    2 / 2-dimensional binary table\\nNAXIS1  =                   30 / width of table in bytes\\nNAXIS2  =                   16 / number of rows in table\\nPCOUNT  =                    0 / size of special data area\\nGCOUNT  =                    1 / one data group (required keyword)\\nTFIELDS =                    6 / number of fields in each row\\nTTYPE1  = 'CHANNEL '           / Channel number\\nTFORM1  = '1I      '           / Format of column CHANNEL\\nTTYPE2  = 'RATE    '           / Countrate in the given channel\\nTFORM2  = '1D      '           / Format of column RATE\\nTTYPE3  = 'STAT_ERR'           / Statistical error\\nTFORM3  = '1D      '           / Format of column STAT_ERR\\nTTYPE4  = 'SYS_ERR '           / Fractional systematic error [0,1]\\nTFORM4  = '1D      '           / Format of column SYS_ERR\\nTTYPE5  = 'QUALITY '           / Quality flag\\nTFORM5  = '1I      '           / Format of column QUALITY\\nTTYPE6  = 'GROUPING'           / Grouping flag\\nTFORM6  = '1I      '           / Format of column GROUPING\\nEXTNAME = 'ISGR-PHA1-SPE'      / Extension name\\nEXTREL  = '7.9     '           / ISDC release number\\nBASETYPE= 'DAL_TABLE'          / Data Access Layer base type\\nTELESCOP= 'INTEGRAL'           / Telescope or mission name\\nORIGIN  = 'ISDC    '           / Origin of FITS file\\nINSTRUME= 'IBIS    '           / Instrument name\\nDETNAM  = 'ISGRI   '           / Name of the detector layer\\nISDCLEVL= 'SPE     '           / ISDC level of data processing\\nCREATOR = 'spe_pick 3.0'       / Executable which created or modified this data\\nCONFIGUR= 'osa_5.1 '           / Software system configuration\\nDATE    = '2006-07-26T19:16:16' / Creation or modification date\\nMJDREF  =               51544. / Modified Julian Date of time origin\\nTIMESYS = 'TT      '           / Time frame system\\nTIMEUNIT= 'd       '           / Time unit\\nTIMEREF = 'LOCAL   '           / Time reference frame\\nDATE-OBS= 'UTC_format'         / Date of the start of the observation\\nDATE-END= 'UTC_format'         / Date of the end of the observation\\nTSTART  =     1144.28361018338 / Start time of the observation\\nTSTOP   =      1937.9504867076 / End time of the observation\\nTELAPSE =     68570382.0099476 / [s] Total elapsed time of the data\\nONTIME  =     391117.999996185 / [s] Sum of good time intervals\\nDEADC   =    0.775615234255207 / Dead-time correction factor\\nEXPOSURE=     288874.247413609 / [s] Effective exposure time\\nRADECSYS= 'FK5     '           / Stellar reference frame\\nEQUINOX =                2000. / Coordinate system equinox\\nRA_OBJ  =     83.6281051635742 / Source right ascension in degrees\\nDEC_OBJ =     22.0165615081787 / Source declination in degrees\\nSOURCEID= 'J053432.0+220052'   / ISDC unique source identifier\\nNAME    = 'Crab    '           / One commonly used name for the source\\nOGID    = 'disk200_IBIS'       / Observation Group identifier\\nCHANTYPE= 'PI      '           / Channels remapped to Pulse Invariant channels\\nDETCHANS=                   16 / Total number of detector channels\\nPOISSERR=                    F / Poisson error not appropriate (use STAT_ERR)\\nHDUCLASS= 'OGIP    '           / Format conforms mostly to OGIP standards\\nHDUCLAS1= 'SPECTRUM'           / Dataset contains a spectrum\\nHDUCLAS2= 'NET     '           / Extension is background subtracted\\nHDUCLAS3= 'RATE    '           / Extension contains a countrate\\nHDUVERS = '1.2.0   '           / Version of format\\nAREASCAL=                   1. / Nominal effective area\\nBACKSCAL=                   1. / Background scale factor\\nCORRSCAL=                   0. / Correction scale factor\\nBACKFILE= 'NONE    '           / Background file\\nCORRFILE= 'NONE    '           / Correction file\\nRESPFILE= 'Crab_rmf.fits'\\nANCRFILE= 'Crab_sum_arf.fits'  / Ancillary response file (ARF)\\nTLMIN1  =                    0 / Minimum legal value of column CHANNEL\\nTLMAX1  =                   15 / Maximum legal value of column CHANNEL\\nTUNIT2  = 'count/s '           / Unit of column RATE\\nTUNIT3  = 'count/s '           / Unit of column STAT_ERR\\nTUNIT4  = '        '           / Unit of column SYS_ERR\\nEXTVER  =                    1 / auto assigned by template parser\\nCHECKSUM= 'RRaBURZ9RRaARRW7'   / HDU checksum updated 2006-07-26T19:16:16\\nDATASUM = '2798173205'         / data unit checksum updated 2006-07-26T19:16:16\\nTFIRST  =     1144.28361223341 / [d] Start of the integration time interval in I\\nTLAST   =      1937.9222929041 / [d] End of the integration time interval in IJD\\nSTAMP   = '2006-07-26T19:16:16 spe_pick 3.0'\\nCOMMENT STAMP : Calculated mean spectrum\\nHISTORY File modified by user 'beckmann' with fv  on 2006-07-26T15:32:00\\nHISTORY File modified by user 'beckmann' with fv  on 2006-07-26T15:32:18\\nHISTORY File modified by user 'beckmann' with fv  on 2006-07-26T15:33:01\\nFOOXXXXX= 'Bar none'\\nEND\\n \\n        RATE\\n        count/s\\n      1  -2.291760332925691E-01\\n      2   6.312281554294670E+01\\n\", stderr=None, params={'infile': 'Crab_sum_pha.fits', 'outfile': 'STDOUT', 'columns': 'RATE', 'rows': '1-2', 'more': 'yes'}, custom=None)"
      ]
     },
     "execution_count": 60,
     "metadata": {},
     "output_type": "execute_result"
    }
   ],
   "source": [
    "result=hsp.fdump(infile=\"Crab_sum_pha.fits\",outfile='STDOUT',columns='RATE',rows='1-2',more='yes')\n",
    "result"
   ]
  },
  {
   "cell_type": "markdown",
   "metadata": {},
   "source": [
    "Now set a parameter to change its behavior and not print the header keywords.  Make sure that this change is picked up.  Currently, the command line is not constructed with all parameters in the pfile, so this works only because the ftool is doing this behind the scenes.  "
   ]
  },
  {
   "cell_type": "code",
   "execution_count": 61,
   "metadata": {},
   "outputs": [
    {
     "data": {
      "text/plain": [
       "0"
      ]
     },
     "execution_count": 61,
     "metadata": {},
     "output_type": "execute_result"
    }
   ],
   "source": [
    "os.system(\"pset fdump prhead=no\")"
   ]
  },
  {
   "cell_type": "markdown",
   "metadata": {},
   "source": [
    "<font color=green>The above runs correctly using prhead=no</font>"
   ]
  },
  {
   "cell_type": "code",
   "execution_count": 62,
   "metadata": {},
   "outputs": [
    {
     "data": {
      "text/plain": [
       "Result(returncode=0, stdout=' \\n \\n        RATE\\n        count/s\\n      1  -2.291760332925691E-01\\n      2   6.312281554294670E+01\\n', stderr=None, params={'infile': 'Crab_sum_pha.fits', 'outfile': 'STDOUT', 'columns': 'RATE', 'rows': '1-2', 'more': 'yes'}, custom=None)"
      ]
     },
     "execution_count": 62,
     "metadata": {},
     "output_type": "execute_result"
    }
   ],
   "source": [
    "hsp.fdump(**result.params)"
   ]
  },
  {
   "cell_type": "markdown",
   "metadata": {},
   "source": [
    "<font color=green>Check if it learned columns=RATE parameter</yes>"
   ]
  },
  {
   "cell_type": "code",
   "execution_count": 68,
   "metadata": {},
   "outputs": [
    {
     "name": "stdout",
     "output_type": "stream",
     "text": [
      "RATE\r\n"
     ]
    }
   ],
   "source": [
    "!pget fdump columns"
   ]
  },
  {
   "cell_type": "markdown",
   "metadata": {},
   "source": [
    "The above runs correctly *using* prhead=no, but <font color=red>note that it did **not** include all the parameters, such as the prhead=no, in the returned object params.  I think it should.  This is the record of what parameters were run.  I think it should go get all of them, even the ones the user didn't specify.</font>\n",
    "\n",
    "<font color=red>Now in batch mode, this should *not* know about prhead=no, but it should know about all the other parameters.  This is a mode invented in the requirements doc.  The resulting output file does not have the header, so it is taking it from the local PFILES, which is not what I want mode=batch to do.</font>"
   ]
  },
  {
   "cell_type": "code",
   "execution_count": 63,
   "metadata": {},
   "outputs": [
    {
     "data": {
      "text/plain": [
       "Result(returncode=0, stdout='', stderr=None, params={'infile': 'Crab_sum_pha.fits', 'mode': 'batch', 'outfile': 'foo.out', 'columns': 'RATE', 'rows': '1-2', 'more': 'yes'}, custom=None)"
      ]
     },
     "execution_count": 63,
     "metadata": {},
     "output_type": "execute_result"
    }
   ],
   "source": [
    "hsp.fdump(infile=\"Crab_sum_pha.fits\",mode=\"batch\",outfile=\"foo.out\",columns='RATE',rows='1-2',more='yes')"
   ]
  },
  {
   "cell_type": "markdown",
   "metadata": {},
   "source": [
    "<font color=red>Do we want basic parameters checked before the system call, e.g., that an integer doesn't get a string or that an infile exists?  This is **not implemented yet** but should give a python exception different from the HeasoftpyExecutionError, such as HeasoftpyParameterError</font>"
   ]
  },
  {
   "cell_type": "code",
   "execution_count": 64,
   "metadata": {},
   "outputs": [
    {
     "ename": "HeasoftpyExecutionError",
     "evalue": "\nError running: fdump\nreturncode: 2\noutput:\nfdump3.5 : could not get PAGEWIDTH parameter\nfdump3.5 : Error Status Returned :    2\nfdump3.5 : unknown error status\n\nfdump3.5 :  ***** FITSIO Error Stack Dump *****\n",
     "output_type": "error",
     "traceback": [
      "\u001b[0;31m---------------------------------------------------------------------------\u001b[0m",
      "\u001b[0;31mHeasoftpyExecutionError\u001b[0m                   Traceback (most recent call last)",
      "\u001b[0;32m<ipython-input-64-1433b31dbaa1>\u001b[0m in \u001b[0;36m<module>\u001b[0;34m\u001b[0m\n\u001b[0;32m----> 1\u001b[0;31m \u001b[0mhsp\u001b[0m\u001b[0;34m.\u001b[0m\u001b[0mfdump\u001b[0m\u001b[0;34m(\u001b[0m\u001b[0minfile\u001b[0m\u001b[0;34m=\u001b[0m\u001b[0;34m\"missing_file.fits\"\u001b[0m\u001b[0;34m,\u001b[0m\u001b[0mpagewidth\u001b[0m\u001b[0;34m=\u001b[0m\u001b[0;34m\"foo\"\u001b[0m\u001b[0;34m,\u001b[0m\u001b[0moutfile\u001b[0m\u001b[0;34m=\u001b[0m\u001b[0;34m'STDOUT'\u001b[0m\u001b[0;34m,\u001b[0m\u001b[0mcolumns\u001b[0m\u001b[0;34m=\u001b[0m\u001b[0;34m'RATE'\u001b[0m\u001b[0;34m,\u001b[0m\u001b[0mrows\u001b[0m\u001b[0;34m=\u001b[0m\u001b[0;34m'1-2'\u001b[0m\u001b[0;34m,\u001b[0m\u001b[0mmore\u001b[0m\u001b[0;34m=\u001b[0m\u001b[0;34m'yes'\u001b[0m\u001b[0;34m)\u001b[0m\u001b[0;34m\u001b[0m\u001b[0;34m\u001b[0m\u001b[0m\n\u001b[0m",
      "\u001b[0;32m~/space/sw/heasoft/heasoftpy/defs/fdump.py\u001b[0m in \u001b[0;36mfdump\u001b[0;34m(**kwargs)\u001b[0m\n\u001b[1;32m     90\u001b[0m     \u001b[0mtask_res\u001b[0m \u001b[0;34m=\u001b[0m \u001b[0mhsp_res\u001b[0m\u001b[0;34m.\u001b[0m\u001b[0mResult\u001b[0m\u001b[0;34m(\u001b[0m\u001b[0mtask_proc\u001b[0m\u001b[0;34m.\u001b[0m\u001b[0mreturncode\u001b[0m\u001b[0;34m,\u001b[0m \u001b[0mtask_out\u001b[0m\u001b[0;34m,\u001b[0m \u001b[0mtask_err\u001b[0m\u001b[0;34m,\u001b[0m \u001b[0mtask_params\u001b[0m\u001b[0;34m)\u001b[0m\u001b[0;34m\u001b[0m\u001b[0;34m\u001b[0m\u001b[0m\n\u001b[1;32m     91\u001b[0m     \u001b[0;32mif\u001b[0m \u001b[0mtask_res\u001b[0m\u001b[0;34m.\u001b[0m\u001b[0mreturncode\u001b[0m\u001b[0;34m:\u001b[0m\u001b[0;34m\u001b[0m\u001b[0;34m\u001b[0m\u001b[0m\n\u001b[0;32m---> 92\u001b[0;31m         \u001b[0;32mraise\u001b[0m \u001b[0mhsp_err\u001b[0m\u001b[0;34m.\u001b[0m\u001b[0mHeasoftpyExecutionError\u001b[0m\u001b[0;34m(\u001b[0m\u001b[0margs\u001b[0m\u001b[0;34m[\u001b[0m\u001b[0;36m0\u001b[0m\u001b[0;34m]\u001b[0m\u001b[0;34m,\u001b[0m \u001b[0mtask_res\u001b[0m\u001b[0;34m)\u001b[0m\u001b[0;34m\u001b[0m\u001b[0;34m\u001b[0m\u001b[0m\n\u001b[0m\u001b[1;32m     93\u001b[0m     \u001b[0;32mreturn\u001b[0m \u001b[0mtask_res\u001b[0m\u001b[0;34m\u001b[0m\u001b[0;34m\u001b[0m\u001b[0m\n",
      "\u001b[0;31mHeasoftpyExecutionError\u001b[0m: \nError running: fdump\nreturncode: 2\noutput:\nfdump3.5 : could not get PAGEWIDTH parameter\nfdump3.5 : Error Status Returned :    2\nfdump3.5 : unknown error status\n\nfdump3.5 :  ***** FITSIO Error Stack Dump *****\n"
     ]
    }
   ],
   "source": [
    "hsp.fdump(infile=\"missing_file.fits\",pagewidth=\"foo\",outfile='STDOUT',columns='RATE',rows='1-2',more='yes')"
   ]
  },
  {
   "cell_type": "code",
   "execution_count": null,
   "metadata": {},
   "outputs": [],
   "source": []
  },
  {
   "cell_type": "code",
   "execution_count": null,
   "metadata": {},
   "outputs": [],
   "source": []
  }
 ],
 "metadata": {
  "kernelspec": {
   "display_name": "Python 3",
   "language": "python",
   "name": "python3"
  },
  "language_info": {
   "codemirror_mode": {
    "name": "ipython",
    "version": 3
   },
   "file_extension": ".py",
   "mimetype": "text/x-python",
   "name": "python",
   "nbconvert_exporter": "python",
   "pygments_lexer": "ipython3",
   "version": "3.8.1"
  }
 },
 "nbformat": 4,
 "nbformat_minor": 4
}
