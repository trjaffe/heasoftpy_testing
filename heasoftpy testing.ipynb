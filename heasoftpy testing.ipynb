{
 "cells": [
  {
   "cell_type": "markdown",
   "metadata": {},
   "source": [
    "# Heasoftpy testing notebook\n",
    "\n",
    "This notebook lays out how to verify the functionality in the requirement document here:\n",
    "\n",
    "https://docs.google.com/document/d/19yX41TdxZRJ037nqk2qJJnyel_SAKqrH1a7koXQ8nU0/edit\n",
    "\n",
    "First do \n",
    "\n",
    "    setenv PYTHONPATH <directory containing heasoftpy>:${PYTHONPATH}\n",
    "    \n"
   ]
  },
  {
   "cell_type": "markdown",
   "metadata": {},
   "source": [
    "## Import and help"
   ]
  },
  {
   "cell_type": "code",
   "execution_count": 1,
   "metadata": {},
   "outputs": [],
   "source": [
    "import os, shutil, sys"
   ]
  },
  {
   "cell_type": "code",
   "execution_count": 2,
   "metadata": {},
   "outputs": [],
   "source": [
    "sys.path.insert(0,\"/Users/tjaffe/space/sw/heasoft/\")\n",
    "import heasoftpy as hsp"
   ]
  },
  {
   "cell_type": "code",
   "execution_count": 3,
   "metadata": {},
   "outputs": [],
   "source": [
    "## This should then somehow be done internally in heasoftpy, right?  Otherwise \n",
    "##  none of the below works for me.  If I don't do this, then I get:\n",
    "##  \n",
    "##  ERROR: Device not configured\n",
    "##  Task ftverify 0.0 terminating with status 6\n",
    "##  Unable to redirect prompts to the /dev/tty (at headas_stdio.c:152)\n",
    "##  \n",
    "os.environ[\"HEADASNOQUERY\"]=\"True\""
   ]
  },
  {
   "cell_type": "code",
   "execution_count": 4,
   "metadata": {},
   "outputs": [],
   "source": [
    "## This correctly shows up the Docstring in the Jupyter Pager.  The docstring currently says:\n",
    "##\n",
    "##   from heaspy import *\n",
    "##\n",
    "##   and I think we talked about how this doesn't work and doesn't need to.\n",
    "hsp?"
   ]
  },
  {
   "cell_type": "code",
   "execution_count": 5,
   "metadata": {},
   "outputs": [
    {
     "name": "stdout",
     "output_type": "stream",
     "text": [
      "Help on package heasoftpy:\n",
      "\n",
      "NAME\n",
      "    heasoftpy\n",
      "\n",
      "DESCRIPTION\n",
      "    Prototyping a function to use a par file to create a function to run a\n",
      "    Heasoft task.\n",
      "\n",
      "PACKAGE CONTENTS\n",
      "    clean_heasoftpy\n",
      "    onthefly (package)\n",
      "    result\n",
      "    write_fns (package)\n",
      "\n",
      "CLASSES\n",
      "    builtins.tuple(builtins.object)\n",
      "        HToolsParameter\n",
      "    \n",
      "    class HToolsParameter(builtins.tuple)\n",
      "     |  HToolsParameter(name, type, mode, default, min, max, prompt)\n",
      "     |  \n",
      "     |  Method resolution order:\n",
      "     |      HToolsParameter\n",
      "     |      builtins.tuple\n",
      "     |      builtins.object\n",
      "     |  \n",
      "     |  Methods defined here:\n",
      "     |  \n",
      "     |  __getnewargs__(self)\n",
      "     |      Return self as a plain tuple.  Used by copy and pickle.\n",
      "     |  \n",
      "     |  __repr__(self)\n",
      "     |      Return a nicely formatted representation string\n",
      "     |  \n",
      "     |  _asdict(self)\n",
      "     |      Return a new OrderedDict which maps field names to their values.\n",
      "     |  \n",
      "     |  _replace(_self, **kwds)\n",
      "     |      Return a new HToolsParameter object replacing specified fields with new values\n",
      "     |  \n",
      "     |  ----------------------------------------------------------------------\n",
      "     |  Class methods defined here:\n",
      "     |  \n",
      "     |  _make(iterable, new=<built-in method __new__ of type object at 0x1016745a0>, len=<built-in function len>) from builtins.type\n",
      "     |      Make a new HToolsParameter object from a sequence or iterable\n",
      "     |  \n",
      "     |  ----------------------------------------------------------------------\n",
      "     |  Static methods defined here:\n",
      "     |  \n",
      "     |  __new__(_cls, name, type, mode, default, min, max, prompt)\n",
      "     |      Create new instance of HToolsParameter(name, type, mode, default, min, max, prompt)\n",
      "     |  \n",
      "     |  ----------------------------------------------------------------------\n",
      "     |  Data descriptors defined here:\n",
      "     |  \n",
      "     |  name\n",
      "     |      Alias for field number 0\n",
      "     |  \n",
      "     |  type\n",
      "     |      Alias for field number 1\n",
      "     |  \n",
      "     |  mode\n",
      "     |      Alias for field number 2\n",
      "     |  \n",
      "     |  default\n",
      "     |      Alias for field number 3\n",
      "     |  \n",
      "     |  min\n",
      "     |      Alias for field number 4\n",
      "     |  \n",
      "     |  max\n",
      "     |      Alias for field number 5\n",
      "     |  \n",
      "     |  prompt\n",
      "     |      Alias for field number 6\n",
      "     |  \n",
      "     |  ----------------------------------------------------------------------\n",
      "     |  Data and other attributes defined here:\n",
      "     |  \n",
      "     |  _fields = ('name', 'type', 'mode', 'default', 'min', 'max', 'prompt')\n",
      "     |  \n",
      "     |  _source = \"from builtins import property as _property, tupl..._itemget...\n",
      "     |  \n",
      "     |  ----------------------------------------------------------------------\n",
      "     |  Methods inherited from builtins.tuple:\n",
      "     |  \n",
      "     |  __add__(self, value, /)\n",
      "     |      Return self+value.\n",
      "     |  \n",
      "     |  __contains__(self, key, /)\n",
      "     |      Return key in self.\n",
      "     |  \n",
      "     |  __eq__(self, value, /)\n",
      "     |      Return self==value.\n",
      "     |  \n",
      "     |  __ge__(self, value, /)\n",
      "     |      Return self>=value.\n",
      "     |  \n",
      "     |  __getattribute__(self, name, /)\n",
      "     |      Return getattr(self, name).\n",
      "     |  \n",
      "     |  __getitem__(self, key, /)\n",
      "     |      Return self[key].\n",
      "     |  \n",
      "     |  __gt__(self, value, /)\n",
      "     |      Return self>value.\n",
      "     |  \n",
      "     |  __hash__(self, /)\n",
      "     |      Return hash(self).\n",
      "     |  \n",
      "     |  __iter__(self, /)\n",
      "     |      Implement iter(self).\n",
      "     |  \n",
      "     |  __le__(self, value, /)\n",
      "     |      Return self<=value.\n",
      "     |  \n",
      "     |  __len__(self, /)\n",
      "     |      Return len(self).\n",
      "     |  \n",
      "     |  __lt__(self, value, /)\n",
      "     |      Return self<value.\n",
      "     |  \n",
      "     |  __mul__(self, value, /)\n",
      "     |      Return self*value.\n",
      "     |  \n",
      "     |  __ne__(self, value, /)\n",
      "     |      Return self!=value.\n",
      "     |  \n",
      "     |  __rmul__(self, value, /)\n",
      "     |      Return value*self.\n",
      "     |  \n",
      "     |  count(...)\n",
      "     |      T.count(value) -> integer -- return number of occurrences of value\n",
      "     |  \n",
      "     |  index(...)\n",
      "     |      T.index(value, [start, [stop]]) -> integer -- return first index of value.\n",
      "     |      Raises ValueError if the value is not present.\n",
      "\n",
      "FUNCTIONS\n",
      "    create_function(task_name)\n",
      "        function to create a function (see module docstring for more)\n",
      "    \n",
      "    pdocstring(task, verbose=False)\n",
      "        Creates a docstring from a HEASoft .par file for a specified task\n",
      "        \n",
      "        :param task: HEASoft task\n",
      "        returns: array of parameters and descriptions in docstring format\n",
      "\n",
      "DATA\n",
      "    LOGGER = <Logger create_function (DEBUG)>\n",
      "    PERMITTED_MODES = {'A': 'a', 'H': 'h', 'L': 'l', 'Q': 'q', 'a': 'a', '...\n",
      "    PERMITTED_TYPES = ['b', 'i', 'r', 's', 'f']\n",
      "    PFILES_DIR = '/Users/tjaffe/space/sw/heasoft/heasoft-6.22.1/x86_64-app...\n",
      "    THIS_MODULE_DIR = '/Users/tjaffe/space/sw/heasoft/heasoftpy'\n",
      "    new_module_path = '/Users/tjaffe/space/sw/heasoft/heasoftpy/defs/batma...\n",
      "    par_file = 'batmasktaglc.par'\n",
      "    spec = ModuleSpec(name='batmasktaglc', loader=<_frozen_...space/sw/hea...\n",
      "    task_name = 'batmasktaglc'\n",
      "\n",
      "FILE\n",
      "    /Users/tjaffe/space/sw/heasoft/heasoftpy/__init__.py\n",
      "\n",
      "\n"
     ]
    }
   ],
   "source": [
    "help(hsp)"
   ]
  },
  {
   "cell_type": "code",
   "execution_count": 6,
   "metadata": {},
   "outputs": [
    {
     "ename": "AttributeError",
     "evalue": "module 'heasoftpy' has no attribute 'help'",
     "output_type": "error",
     "traceback": [
      "\u001b[0;31m---------------------------------------------------------------------------\u001b[0m",
      "\u001b[0;31mAttributeError\u001b[0m                            Traceback (most recent call last)",
      "\u001b[0;32m<ipython-input-6-0ae117674bc6>\u001b[0m in \u001b[0;36m<module>\u001b[0;34m()\u001b[0m\n\u001b[0;32m----> 1\u001b[0;31m \u001b[0mhsp\u001b[0m\u001b[0;34m.\u001b[0m\u001b[0mhelp\u001b[0m\u001b[0;34m(\u001b[0m\u001b[0;34m)\u001b[0m\u001b[0;34m\u001b[0m\u001b[0;34m\u001b[0m\u001b[0m\n\u001b[0m",
      "\u001b[0;31mAttributeError\u001b[0m: module 'heasoftpy' has no attribute 'help'"
     ]
    }
   ],
   "source": [
    "hsp.help()"
   ]
  },
  {
   "cell_type": "code",
   "execution_count": 7,
   "metadata": {
    "scrolled": true
   },
   "outputs": [
    {
     "data": {
      "text/plain": [
       "<heasoftpy.result.Result at 0x103d00400>"
      ]
     },
     "execution_count": 7,
     "metadata": {},
     "output_type": "execute_result"
    }
   ],
   "source": [
    "## What this is currently doing is calling the tool in mode=h with whatever's in the user parameter file.\n",
    "##  MikeC wants it to prompt for any queried parameters:\n",
    "hsp.ftverify()"
   ]
  },
  {
   "cell_type": "code",
   "execution_count": 8,
   "metadata": {},
   "outputs": [],
   "source": [
    "##  Do we want this to just show the parameters for fdump?  \n",
    "##   This currently shows up in the pager window (good) but with no \n",
    "##   info about the params.  \n",
    "hsp.fdump?"
   ]
  },
  {
   "cell_type": "code",
   "execution_count": 9,
   "metadata": {},
   "outputs": [
    {
     "ename": "AttributeError",
     "evalue": "'function' object has no attribute 'help'",
     "output_type": "error",
     "traceback": [
      "\u001b[0;31m---------------------------------------------------------------------------\u001b[0m",
      "\u001b[0;31mAttributeError\u001b[0m                            Traceback (most recent call last)",
      "\u001b[0;32m<ipython-input-9-6c9f17c05293>\u001b[0m in \u001b[0;36m<module>\u001b[0;34m()\u001b[0m\n\u001b[1;32m      1\u001b[0m \u001b[0;31m##  I think we want something like this to print the help for ftverify\u001b[0m\u001b[0;34m\u001b[0m\u001b[0;34m\u001b[0m\u001b[0;34m\u001b[0m\u001b[0m\n\u001b[0;32m----> 2\u001b[0;31m \u001b[0mhsp\u001b[0m\u001b[0;34m.\u001b[0m\u001b[0mftverify\u001b[0m\u001b[0;34m.\u001b[0m\u001b[0mhelp\u001b[0m\u001b[0;34m(\u001b[0m\u001b[0;34m)\u001b[0m\u001b[0;34m\u001b[0m\u001b[0;34m\u001b[0m\u001b[0m\n\u001b[0m",
      "\u001b[0;31mAttributeError\u001b[0m: 'function' object has no attribute 'help'"
     ]
    }
   ],
   "source": [
    "##  I think we want something like this to print the help for ftverify\n",
    "hsp.ftverify.help()"
   ]
  },
  {
   "cell_type": "markdown",
   "metadata": {},
   "source": [
    "## Running and results\n",
    "\n",
    "Returned data object:"
   ]
  },
  {
   "cell_type": "code",
   "execution_count": 10,
   "metadata": {},
   "outputs": [
    {
     "data": {
      "text/plain": [
       "{'returncode': 0,\n",
       " 'stdout': ' \\n               ftverify 4.18 (CFITSIO V3.420)               \\n               ------------------------------               \\n \\nHEASARC conventions are being checked.\\n \\nFile: /Users/tjaffe/space//data/heasarc/mission_samples/test_verify/3FGL_J0534d5p2201i_lc.fits.gz\\n\\n2 Header-Data Units in this file.\\n \\n=================== HDU 1: Primary Array ===================\\n \\n 12 header keywords\\n \\n Null data array; NAXIS = 0 \\n \\n=================== HDU 2: BINARY Table ====================\\n \\n*** Error:   Keyword #94, CNF68SMA: Type of value \"NAN\" is unknown.\\n*** Error:   Keyword #95, CNF68SMI: Type of value \"NAN\" is unknown.\\n*** Error:   Keyword #96, CNF68PA: Type of value \"NAN\" is unknown.\\n*** Error:   Keyword #97, CNF95SMA: Type of value \"NAN\" is unknown.\\n*** Error:   Keyword #98, CNF95SMI: Type of value \"NAN\" is unknown.\\n*** Error:   Keyword #99, CNF95PA: Type of value \"NAN\" is unknown.\\n*** Error:   Keyword #100, SIG_AVG: Bad numerical value \"-INF\".\\n*** Error:   Keyword #103, FLXDNSER: Bad numerical value \"-INF\".\\n*** Error:   Keyword #105, SPCINDER: Bad numerical value \"-INF\".\\n*** Error:   Keyword #107, FBAND1ER: Bad numerical value \"-INF\".\\n*** Error:   Keyword #109, EFBAND1E: Bad numerical value \"-INF\".\\n*** Error:   Keyword #114, TSBAND3: Type of value \"NAN\" is unknown.\\n*** Error:   Keyword #116, TSBAND4: Type of value \"NAN\" is unknown.\\n \\n 403 header keywords\\n \\n RATE  (4 columns x 48 rows)\\n \\n Col# Name (Units)       Format\\n   1 RATE (photon/cm**2/s D         \\n   2 RATE_ERR (photon/cm* D         \\n   3 TIME (s)             D         \\n   4 TIMEDEL (s)          D         \\n \\n++++++++++++++++++++++ Error Summary  ++++++++++++++++++++++\\n \\n HDU#  Name (version)       Type             Warnings  Errors\\n 1                          Primary Array    0         0     \\n 2     RATE                 Binary Table     0         13    \\n \\n**** Verification found 0 warning(s) and 13 error(s). ****\\n',\n",
       " 'stderr': None,\n",
       " 'params': None,\n",
       " 'custom': None}"
      ]
     },
     "execution_count": 10,
     "metadata": {},
     "output_type": "execute_result"
    }
   ],
   "source": [
    "#  By default, everything to STDOUT\n",
    "result=hsp.ftverify(infile='/Users/tjaffe/space//data/heasarc/mission_samples/test_verify/3FGL_J0534d5p2201i_lc.fits.gz')\n",
    "result.__dict__"
   ]
  },
  {
   "cell_type": "markdown",
   "metadata": {},
   "source": [
    "Seeing what's happening with STDERR"
   ]
  },
  {
   "cell_type": "code",
   "execution_count": 11,
   "metadata": {},
   "outputs": [
    {
     "data": {
      "text/plain": [
       "{'returncode': 0,\n",
       " 'stdout': '*** Error:   Keyword #94, CNF68SMA: Type of value \"NAN\" is unknown.\\n*** Error:   Keyword #95, CNF68SMI: Type of value \"NAN\" is unknown.\\n*** Error:   Keyword #96, CNF68PA: Type of value \"NAN\" is unknown.\\n*** Error:   Keyword #97, CNF95SMA: Type of value \"NAN\" is unknown.\\n*** Error:   Keyword #98, CNF95SMI: Type of value \"NAN\" is unknown.\\n*** Error:   Keyword #99, CNF95PA: Type of value \"NAN\" is unknown.\\n*** Error:   Keyword #100, SIG_AVG: Bad numerical value \"-INF\".\\n*** Error:   Keyword #103, FLXDNSER: Bad numerical value \"-INF\".\\n*** Error:   Keyword #105, SPCINDER: Bad numerical value \"-INF\".\\n*** Error:   Keyword #107, FBAND1ER: Bad numerical value \"-INF\".\\n*** Error:   Keyword #109, EFBAND1E: Bad numerical value \"-INF\".\\n*** Error:   Keyword #114, TSBAND3: Type of value \"NAN\" is unknown.\\n*** Error:   Keyword #116, TSBAND4: Type of value \"NAN\" is unknown.\\n',\n",
       " 'stderr': None,\n",
       " 'params': None,\n",
       " 'custom': None}"
      ]
     },
     "execution_count": 11,
     "metadata": {},
     "output_type": "execute_result"
    }
   ],
   "source": [
    "## Tell ftverify to send STDOUT to a file\n",
    "if os.path.exists(\"ftverify.out\"):\n",
    "    os.unlink(\"ftverify.out\")\n",
    "\n",
    "result=hsp.ftverify(\n",
    "    infile='/Users/tjaffe/space//data/heasarc/mission_samples/test_verify/3FGL_J0534d5p2201i_lc.fits.gz',\n",
    "    outfile=\"ftverify.out\")\n",
    "result.__dict__"
   ]
  },
  {
   "cell_type": "markdown",
   "metadata": {},
   "source": [
    "###  Split errors to stderr instead"
   ]
  },
  {
   "cell_type": "code",
   "execution_count": 12,
   "metadata": {},
   "outputs": [
    {
     "data": {
      "text/plain": [
       "{'returncode': 0,\n",
       " 'stdout': '',\n",
       " 'stderr': '*** Error:   Keyword #94, CNF68SMA: Type of value \"NAN\" is unknown.\\n*** Error:   Keyword #95, CNF68SMI: Type of value \"NAN\" is unknown.\\n*** Error:   Keyword #96, CNF68PA: Type of value \"NAN\" is unknown.\\n*** Error:   Keyword #97, CNF95SMA: Type of value \"NAN\" is unknown.\\n*** Error:   Keyword #98, CNF95SMI: Type of value \"NAN\" is unknown.\\n*** Error:   Keyword #99, CNF95PA: Type of value \"NAN\" is unknown.\\n*** Error:   Keyword #100, SIG_AVG: Bad numerical value \"-INF\".\\n*** Error:   Keyword #103, FLXDNSER: Bad numerical value \"-INF\".\\n*** Error:   Keyword #105, SPCINDER: Bad numerical value \"-INF\".\\n*** Error:   Keyword #107, FBAND1ER: Bad numerical value \"-INF\".\\n*** Error:   Keyword #109, EFBAND1E: Bad numerical value \"-INF\".\\n*** Error:   Keyword #114, TSBAND3: Type of value \"NAN\" is unknown.\\n*** Error:   Keyword #116, TSBAND4: Type of value \"NAN\" is unknown.\\n',\n",
       " 'params': None,\n",
       " 'custom': None}"
      ]
     },
     "execution_count": 12,
     "metadata": {},
     "output_type": "execute_result"
    }
   ],
   "source": [
    "## Tell it to separate out STDERR.  \n",
    "if os.path.exists(\"ftverify.out\"):\n",
    "    os.unlink(\"ftverify.out\")\n",
    "result=hsp.ftverify(\n",
    "    infile='/Users/tjaffe/space//data/heasarc/mission_samples/test_verify/3FGL_J0534d5p2201i_lc.fits.gz',\n",
    "    outfile=\"ftverify.out\",\n",
    "    stderr=True)\n",
    "result.__dict__"
   ]
  },
  {
   "cell_type": "markdown",
   "metadata": {},
   "source": [
    "## Parameter interface\n",
    "\n",
    "### Interactive\n",
    "\n",
    "This should then prompt for the non-hidden fdump parameters, **not implemented yet**:"
   ]
  },
  {
   "cell_type": "code",
   "execution_count": 13,
   "metadata": {},
   "outputs": [
    {
     "data": {
      "text/plain": [
       "<heasoftpy.result.Result at 0x103d26438>"
      ]
     },
     "execution_count": 13,
     "metadata": {},
     "output_type": "execute_result"
    }
   ],
   "source": [
    "hsp.fdump()"
   ]
  },
  {
   "cell_type": "markdown",
   "metadata": {},
   "source": [
    "### Learning behavior"
   ]
  },
  {
   "cell_type": "code",
   "execution_count": 14,
   "metadata": {},
   "outputs": [
    {
     "data": {
      "text/plain": [
       "[]"
      ]
     },
     "execution_count": 14,
     "metadata": {},
     "output_type": "execute_result"
    }
   ],
   "source": [
    "## Set up a local pfiles we can mess with\n",
    "if os.path.exists(\"pfiles.local\"):\n",
    "    shutil.rmtree(\"pfiles.local\")\n",
    "os.mkdir(\"pfiles.local\")\n",
    "os.environ[\"PFILES\"]=\"./pfiles.local;/Users/tjaffe/space/sw/heasoft/heasoft-6.22.1/x86_64-apple-darwin17.4.0/syspfiles\"\n",
    "os.listdir(\"pfiles.local\")"
   ]
  },
  {
   "cell_type": "code",
   "execution_count": 15,
   "metadata": {},
   "outputs": [
    {
     "data": {
      "text/plain": [
       "'./pfiles.local;/Users/tjaffe/space/sw/heasoft/heasoft-6.22.1/x86_64-apple-darwin17.4.0/syspfiles'"
      ]
     },
     "execution_count": 15,
     "metadata": {},
     "output_type": "execute_result"
    }
   ],
   "source": [
    "os.environ['PFILES']"
   ]
  },
  {
   "cell_type": "markdown",
   "metadata": {},
   "source": [
    "Nothing in the pfiles.  Call with just the required input parameter:"
   ]
  },
  {
   "cell_type": "code",
   "execution_count": 16,
   "metadata": {
    "scrolled": true
   },
   "outputs": [
    {
     "data": {
      "text/plain": [
       "{'returncode': 0,\n",
       " 'stdout': \"SIMPLE  =                    T / file does conform to FITS standard\\nBITPIX  =                    8 / number of bits per data pixel\\nNAXIS   =                    0 / number of data axes\\nEXTEND  =                    T / FITS dataset may contain extensions\\nCOMMENT   FITS (Flexible Image Transport System) format is defined in 'Astronomy\\nCOMMENT   and Astrophysics', volume 376, page 359; bibcode: 2001A&A...376..359H\\nCOMMENT\\nCOMMENT This file was written by the ISDC Data Access Layer (DAL) version\\nCOMMENT 3.0.2. For Questions or further information contact the ISDC at:\\nCOMMENT\\nCOMMENT      INTEGRAL Science Data Centre\\nCOMMENT      Chemin d'Ecogia 16\\nCOMMENT      CH-1290 Versoix, Switzerland\\nCOMMENT\\nCOMMENT The data structures within make use of the FITS Hierarchical\\nCOMMENT Grouping Convention by Jennings, Pence, Folk and Schlesinger. See\\nCOMMENT The NASA/GSFC FITS Users Guide Version 4.0 for more information.\\nCOMMENT Cfitsio version: 2.490000\\nEND\\n \\nXTENSION= 'BINTABLE'           / Binary table extension\\nBITPIX  =                    8 / 8-bit bytes\\nNAXIS   =                    2 / 2-dimensional binary table\\nNAXIS1  =                   30 / width of table in bytes\\nNAXIS2  =                   16 / number of rows in table\\nPCOUNT  =                    0 / size of special data area\\nGCOUNT  =                    1 / one data group (required keyword)\\nTFIELDS =                    6 / number of fields in each row\\nTTYPE1  = 'CHANNEL '           / Channel number\\nTFORM1  = '1I      '           / Format of column CHANNEL\\nTTYPE2  = 'RATE    '           / Countrate in the given channel\\nTFORM2  = '1D      '           / Format of column RATE\\nTTYPE3  = 'STAT_ERR'           / Statistical error\\nTFORM3  = '1D      '           / Format of column STAT_ERR\\nTTYPE4  = 'SYS_ERR '           / Fractional systematic error [0,1]\\nTFORM4  = '1D      '           / Format of column SYS_ERR\\nTTYPE5  = 'QUALITY '           / Quality flag\\nTFORM5  = '1I      '           / Format of column QUALITY\\nTTYPE6  = 'GROUPING'           / Grouping flag\\nTFORM6  = '1I      '           / Format of column GROUPING\\nEXTNAME = 'ISGR-PHA1-SPE'      / Extension name\\nEXTREL  = '7.9     '           / ISDC release number\\nBASETYPE= 'DAL_TABLE'          / Data Access Layer base type\\nTELESCOP= 'INTEGRAL'           / Telescope or mission name\\nORIGIN  = 'ISDC    '           / Origin of FITS file\\nINSTRUME= 'IBIS    '           / Instrument name\\nDETNAM  = 'ISGRI   '           / Name of the detector layer\\nISDCLEVL= 'SPE     '           / ISDC level of data processing\\nCREATOR = 'spe_pick 3.0'       / Executable which created or modified this data\\nCONFIGUR= 'osa_5.1 '           / Software system configuration\\nDATE    = '2006-07-26T19:16:16' / Creation or modification date\\nMJDREF  =               51544. / Modified Julian Date of time origin\\nTIMESYS = 'TT      '           / Time frame system\\nTIMEUNIT= 'd       '           / Time unit\\nTIMEREF = 'LOCAL   '           / Time reference frame\\nDATE-OBS= 'UTC_format'         / Date of the start of the observation\\nDATE-END= 'UTC_format'         / Date of the end of the observation\\nTSTART  =     1144.28361018338 / Start time of the observation\\nTSTOP   =      1937.9504867076 / End time of the observation\\nTELAPSE =     68570382.0099476 / [s] Total elapsed time of the data\\nONTIME  =     391117.999996185 / [s] Sum of good time intervals\\nDEADC   =    0.775615234255207 / Dead-time correction factor\\nEXPOSURE=     288874.247413609 / [s] Effective exposure time\\nRADECSYS= 'FK5     '           / Stellar reference frame\\nEQUINOX =                2000. / Coordinate system equinox\\nRA_OBJ  =     83.6281051635742 / Source right ascension in degrees\\nDEC_OBJ =     22.0165615081787 / Source declination in degrees\\nSOURCEID= 'J053432.0+220052'   / ISDC unique source identifier\\nNAME    = 'Crab    '           / One commonly used name for the source\\nOGID    = 'disk200_IBIS'       / Observation Group identifier\\nCHANTYPE= 'PI      '           / Channels remapped to Pulse Invariant channels\\nDETCHANS=                   16 / Total number of detector channels\\nPOISSERR=                    F / Poisson error not appropriate (use STAT_ERR)\\nHDUCLASS= 'OGIP    '           / Format conforms mostly to OGIP standards\\nHDUCLAS1= 'SPECTRUM'           / Dataset contains a spectrum\\nHDUCLAS2= 'NET     '           / Extension is background subtracted\\nHDUCLAS3= 'RATE    '           / Extension contains a countrate\\nHDUVERS = '1.2.0   '           / Version of format\\nAREASCAL=                   1. / Nominal effective area\\nBACKSCAL=                   1. / Background scale factor\\nCORRSCAL=                   0. / Correction scale factor\\nBACKFILE= 'NONE    '           / Background file\\nCORRFILE= 'NONE    '           / Correction file\\nRESPFILE= 'Crab_rmf.fits'\\nANCRFILE= 'Crab_sum_arf.fits'  / Ancillary response file (ARF)\\nTLMIN1  =                    0 / Minimum legal value of column CHANNEL\\nTLMAX1  =                   15 / Maximum legal value of column CHANNEL\\nTUNIT2  = 'count/s '           / Unit of column RATE\\nTUNIT3  = 'count/s '           / Unit of column STAT_ERR\\nTUNIT4  = '        '           / Unit of column SYS_ERR\\nEXTVER  =                    1 / auto assigned by template parser\\nCHECKSUM= 'RRaBURZ9RRaARRW7'   / HDU checksum updated 2006-07-26T19:16:16\\nDATASUM = '2798173205'         / data unit checksum updated 2006-07-26T19:16:16\\nTFIRST  =     1144.28361223341 / [d] Start of the integration time interval in I\\nTLAST   =      1937.9222929041 / [d] End of the integration time interval in IJD\\nSTAMP   = '2006-07-26T19:16:16 spe_pick 3.0'\\nCOMMENT STAMP : Calculated mean spectrum\\nHISTORY File modified by user 'beckmann' with fv  on 2006-07-26T15:32:00\\nHISTORY File modified by user 'beckmann' with fv  on 2006-07-26T15:32:18\\nHISTORY File modified by user 'beckmann' with fv  on 2006-07-26T15:33:01\\nFOOXXXXX= 'Bar none'\\nEND\\n \\n        CHANNEL RATE                    STAT_ERR\\n                count/s                 count/s\\n      1      0   -2.291760332925691E-01   9.468074056581779E-02\\n      2      1    6.312281554294670E+01   6.595265185380932E-02\\n      3      2    9.688033127400635E+01   4.902798349289606E-02\\n      4      3    5.327950784837369E+01   3.866308274088730E-02\\n      5      4    2.984673998898226E+01   4.330935311825777E-02\\n      6      5    1.582856312808404E+01   3.198943785495866E-02\\n      7      6    5.963269035855904E+00   2.777490886224009E-02\\n      8      7    1.927929370567892E+00   2.540333434216376E-02\\n      9      8    6.943314332627546E-01   2.259705147032545E-02\\n     10      9    2.987235464621470E-01   1.964983354065748E-02\\n     11     10    1.086121487229098E-01   1.693307821731287E-02\\n     12     11    5.540855717932812E-02   2.026875314690608E-02\\n     13     12    1.621597310542015E-02   1.171778635110433E-02\\n     14     13   -1.831728209908916E-02   1.061513088649730E-02\\n     15     14    2.790933041627241E-03   9.690648388624198E-03\\n     16     15   -3.073756260298489E-03   9.458909989763373E-03\\n \\n        SYS_ERR                 QUALITY GROUPING\\n \\n      1   0.000000000000000E+00      3       1\\n      2   0.000000000000000E+00      1       1\\n      3   0.000000000000000E+00      0       1\\n      4   0.000000000000000E+00      0       1\\n      5   0.000000000000000E+00      0       1\\n      6   0.000000000000000E+00      0       1\\n      7   0.000000000000000E+00      0       1\\n      8   0.000000000000000E+00      0       1\\n      9   0.000000000000000E+00      0       1\\n     10   0.000000000000000E+00      0       1\\n     11   0.000000000000000E+00      0       1\\n     12   0.000000000000000E+00      0       1\\n     13   0.000000000000000E+00      0       1\\n     14   0.000000000000000E+00      0       1\\n     15   0.000000000000000E+00      0       1\\n     16   0.000000000000000E+00      0       1\\n\",\n",
       " 'stderr': None,\n",
       " 'params': None,\n",
       " 'custom': None}"
      ]
     },
     "execution_count": 16,
     "metadata": {},
     "output_type": "execute_result"
    }
   ],
   "source": [
    "hsp.fdump(infile=\"Crab_sum_pha.fits\").__dict__"
   ]
  },
  {
   "cell_type": "markdown",
   "metadata": {},
   "source": [
    "Now set a parameter to change its behavior and not print the header keywords.  Make sure that this change is picked up.  Currently, the command line is not constructed with all parameters in the pfile, so this works only because the ftool is doing this behind the scenes.  \n",
    "\n",
    "**So this needs to be verified again when the full command line is constructed from the pfile.**"
   ]
  },
  {
   "cell_type": "code",
   "execution_count": 17,
   "metadata": {},
   "outputs": [
    {
     "data": {
      "text/plain": [
       "0"
      ]
     },
     "execution_count": 17,
     "metadata": {},
     "output_type": "execute_result"
    }
   ],
   "source": [
    "os.system(\"pset fdump prhead=no\")"
   ]
  },
  {
   "cell_type": "code",
   "execution_count": 18,
   "metadata": {},
   "outputs": [
    {
     "data": {
      "text/plain": [
       "{'returncode': 0,\n",
       " 'stdout': ' \\n \\n        CHANNEL RATE                    STAT_ERR\\n                count/s                 count/s\\n      1      0   -2.291760332925691E-01   9.468074056581779E-02\\n      2      1    6.312281554294670E+01   6.595265185380932E-02\\n      3      2    9.688033127400635E+01   4.902798349289606E-02\\n      4      3    5.327950784837369E+01   3.866308274088730E-02\\n      5      4    2.984673998898226E+01   4.330935311825777E-02\\n      6      5    1.582856312808404E+01   3.198943785495866E-02\\n      7      6    5.963269035855904E+00   2.777490886224009E-02\\n      8      7    1.927929370567892E+00   2.540333434216376E-02\\n      9      8    6.943314332627546E-01   2.259705147032545E-02\\n     10      9    2.987235464621470E-01   1.964983354065748E-02\\n     11     10    1.086121487229098E-01   1.693307821731287E-02\\n     12     11    5.540855717932812E-02   2.026875314690608E-02\\n     13     12    1.621597310542015E-02   1.171778635110433E-02\\n     14     13   -1.831728209908916E-02   1.061513088649730E-02\\n     15     14    2.790933041627241E-03   9.690648388624198E-03\\n     16     15   -3.073756260298489E-03   9.458909989763373E-03\\n \\n        SYS_ERR                 QUALITY GROUPING\\n \\n      1   0.000000000000000E+00      3       1\\n      2   0.000000000000000E+00      1       1\\n      3   0.000000000000000E+00      0       1\\n      4   0.000000000000000E+00      0       1\\n      5   0.000000000000000E+00      0       1\\n      6   0.000000000000000E+00      0       1\\n      7   0.000000000000000E+00      0       1\\n      8   0.000000000000000E+00      0       1\\n      9   0.000000000000000E+00      0       1\\n     10   0.000000000000000E+00      0       1\\n     11   0.000000000000000E+00      0       1\\n     12   0.000000000000000E+00      0       1\\n     13   0.000000000000000E+00      0       1\\n     14   0.000000000000000E+00      0       1\\n     15   0.000000000000000E+00      0       1\\n     16   0.000000000000000E+00      0       1\\n',\n",
       " 'stderr': None,\n",
       " 'params': None,\n",
       " 'custom': None}"
      ]
     },
     "execution_count": 18,
     "metadata": {},
     "output_type": "execute_result"
    }
   ],
   "source": [
    "hsp.fdump(infile=\"Crab_sum_pha.fits\").__dict__"
   ]
  },
  {
   "cell_type": "markdown",
   "metadata": {},
   "source": [
    "Now in batch mode, this should *not* know about prhead=no.  But **this is not yet implemented**.  "
   ]
  },
  {
   "cell_type": "code",
   "execution_count": 19,
   "metadata": {},
   "outputs": [
    {
     "data": {
      "text/plain": [
       "{'returncode': 27,\n",
       " 'stdout': 'fdump3.5 : could not get OUTFILE parameter\\nfdump3.5 : Error Status Returned :   27\\nfdump3.5 : unknown error status\\n\\nfdump3.5 :  ***** FITSIO Error Stack Dump *****\\n',\n",
       " 'stderr': None,\n",
       " 'params': None,\n",
       " 'custom': None}"
      ]
     },
     "execution_count": 19,
     "metadata": {},
     "output_type": "execute_result"
    }
   ],
   "source": [
    "hsp.fdump(infile=\"Crab_sum_pha.fits\",mode=\"batch\").__dict__"
   ]
  },
  {
   "cell_type": "markdown",
   "metadata": {},
   "source": [
    "We will want basic parameters checked before the system call, e.g., that an integer doesn't get a string or that an infile exists.  This is **not implemented yet** but should give a python exception:"
   ]
  },
  {
   "cell_type": "code",
   "execution_count": 20,
   "metadata": {},
   "outputs": [
    {
     "data": {
      "text/plain": [
       "{'returncode': 2,\n",
       " 'stdout': 'fdump3.5 : could not get PAGEWIDTH parameter\\nfdump3.5 : Error Status Returned :    2\\nfdump3.5 : unknown error status\\n\\nfdump3.5 :  ***** FITSIO Error Stack Dump *****\\n',\n",
       " 'stderr': None,\n",
       " 'params': None,\n",
       " 'custom': None}"
      ]
     },
     "execution_count": 20,
     "metadata": {},
     "output_type": "execute_result"
    }
   ],
   "source": [
    "hsp.fdump(infile=\"missing_file.fits\",pagewidth=\"foo\").__dict__"
   ]
  },
  {
   "cell_type": "code",
   "execution_count": null,
   "metadata": {},
   "outputs": [],
   "source": []
  },
  {
   "cell_type": "code",
   "execution_count": null,
   "metadata": {},
   "outputs": [],
   "source": []
  }
 ],
 "metadata": {
  "kernelspec": {
   "display_name": "Python [conda env:anaconda3]",
   "language": "python",
   "name": "conda-env-anaconda3-py"
  },
  "language_info": {
   "codemirror_mode": {
    "name": "ipython",
    "version": 3
   },
   "file_extension": ".py",
   "mimetype": "text/x-python",
   "name": "python",
   "nbconvert_exporter": "python",
   "pygments_lexer": "ipython3",
   "version": "3.6.7"
  }
 },
 "nbformat": 4,
 "nbformat_minor": 2
}
