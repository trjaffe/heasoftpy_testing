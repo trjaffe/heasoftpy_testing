{
 "cells": [
  {
   "cell_type": "markdown",
   "metadata": {},
   "source": [
    "# Heasoftpy testing notebook\n",
    "\n",
    "This notebook lays out how to verify the functionality in the requirement document here:\n",
    "\n",
    "https://docs.google.com/document/d/19yX41TdxZRJ037nqk2qJJnyel_SAKqrH1a7koXQ8nU0/edit   \n"
   ]
  },
  {
   "cell_type": "markdown",
   "metadata": {},
   "source": [
    "## Import and help"
   ]
  },
  {
   "cell_type": "code",
   "execution_count": 1,
   "metadata": {},
   "outputs": [],
   "source": [
    "import os, shutil, sys"
   ]
  },
  {
   "cell_type": "code",
   "execution_count": 2,
   "metadata": {},
   "outputs": [],
   "source": [
    "sys.path.insert(0,\"/Users/tjaffe/space/sw/heasoft/\")\n",
    "import heasoftpy as hsp"
   ]
  },
  {
   "cell_type": "markdown",
   "metadata": {},
   "source": [
    "<font color=green>This correctly shows up the Docstring in the Jupyter Pager for Jupyter Notebook and here inline for JupyterLab.</font>"
   ]
  },
  {
   "cell_type": "code",
   "execution_count": 3,
   "metadata": {},
   "outputs": [],
   "source": [
    "hsp?"
   ]
  },
  {
   "cell_type": "markdown",
   "metadata": {},
   "source": [
    "<font color=red>**This works, but it isn't useful to the user.  The Description should include a quick usage guide**, e.g.,\n",
    "    \n",
    "    DESCRIPTION\n",
    "\n",
    "        Python package to wrap the HEASoft tools so that \n",
    "        they can be called from python scripts,\n",
    "        interactive ipython sessions, or Jupyter Notebooks.  \n",
    "\n",
    "        >>> import heasoftpy as hsp\n",
    "        >>> help(hsp.fdump)\n",
    "        ...\n",
    "        >>> hsp.fhelp(task=\"fdump\")\n",
    "        >>> hsp.fdump()\n",
    "        Name of FITS file and [ext#]> Crab_sum_pha.fits\n",
    "        ...\n",
    "        >>> result=hsp.fdump(infile='foo.fits',outfile='STDOUT',columns='RATE',rows='1-2',more='yes')\n",
    "        >>> params2=result.params\n",
    "        >>> params2['prhead']='no'\n",
    "\n",
    "        etc., or for scripting with error trapping:\n",
    "        \n",
    "          from heasoftpy.core.errors import HeasoftpyExecutionError\n",
    "          try:\n",
    "            result=hsp.ftverify(params)\n",
    "            print(\"Success\")\n",
    "          except HeasoftpyExecutionError as e:\n",
    "            print(\"Error trapped as HeasoftpyExecutionError with message:{}\".format(e))\n",
    "          except Exception as e:\n",
    "            print(\"Unexpected status--{}--\".format(e))\n",
    "    \n",
    "        Version ...\n"
   ]
  },
  {
   "cell_type": "code",
   "execution_count": 4,
   "metadata": {},
   "outputs": [
    {
     "name": "stdout",
     "output_type": "stream",
     "text": [
      "Help on package heasoftpy:\n",
      "\n",
      "NAME\n",
      "    heasoftpy - Python interface to the FTools/HTools package.\n",
      "\n",
      "DESCRIPTION\n",
      "    The heasoftpy module provides a Python function corresponding to each\n",
      "    Heasoft/FTools task. Note that dashes (\"-\") in task names are replaces with\n",
      "    underscores (\"_\") in the corresponding heasoftpy function.\n",
      "    \n",
      "    If there is not already a file containing a function to run a given FTools\n",
      "    program, this will create one upon import. The appropriate parameter file is\n",
      "    used to do this.\n",
      "    \n",
      "    Modification history:\n",
      "    Version 0.1 ME:    Initial version\n",
      "    Version 0.1.1 MFC: corrects identification of prompting for required, missing\n",
      "                       parameters\n",
      "    Version 0.1.2 ME:  Added Error classes and handling errors when the underlying\n",
      "                       program encounters an error.\n",
      "    Version 0.1.3 ME:  Added checks of function versions and replacement of\n",
      "                       functions that are outdated.\n",
      "    Version 0.1.4 ME:  Pre-populate the results.params field in a generated function\n",
      "                       so that all values used by the corresponding FTool are in the\n",
      "                       params field (which later has user-specified values replace\n",
      "                       the defaults where appropriate).\n",
      "    Version 0.1.5 ME:  Added help, including putting fhelp contents into the\n",
      "                       docstrings of the created functions.\n",
      "    Version 0.1.6 ME:  Split creation of functions so that those that can accept\n",
      "                       a single (positional) argument can do so with that required\n",
      "                       argument (often the input file) as the default.\n",
      "    Version 0.1.7 ME:  Re-read parameter file after subprocess call to underlying program\n",
      "                       and load into result.params. Moved _read_par_file function to utils\n",
      "                       and renamed it read_par_file.\n",
      "    Version 0.1.8 ME:  Cleaned up code, removed debugging messages and restructured\n",
      "                       directories in preparation for release\n",
      "    \n",
      "    ME = Matt Elliott\n",
      "    MFC = Mike Corcoran\n",
      "\n",
      "PACKAGE CONTENTS\n",
      "    ape (package)\n",
      "    clean_heasoftpy\n",
      "    onthefly (package)\n",
      "    utils (package)\n",
      "    write_fns (package)\n",
      "\n",
      "SUBMODULES\n",
      "    core\n",
      "    hsp_ape\n",
      "\n",
      "CLASSES\n",
      "    builtins.tuple(builtins.object)\n",
      "        HToolsParameter\n",
      "    \n",
      "    class HToolsParameter(builtins.tuple)\n",
      "     |  HToolsParameter(name, type, mode, default, min, max, prompt)\n",
      "     |  \n",
      "     |  HToolsParameter(name, type, mode, default, min, max, prompt)\n",
      "     |  \n",
      "     |  Method resolution order:\n",
      "     |      HToolsParameter\n",
      "     |      builtins.tuple\n",
      "     |      builtins.object\n",
      "     |  \n",
      "     |  Methods defined here:\n",
      "     |  \n",
      "     |  __getnewargs__(self)\n",
      "     |      Return self as a plain tuple.  Used by copy and pickle.\n",
      "     |  \n",
      "     |  __repr__(self)\n",
      "     |      Return a nicely formatted representation string\n",
      "     |  \n",
      "     |  _asdict(self)\n",
      "     |      Return a new OrderedDict which maps field names to their values.\n",
      "     |  \n",
      "     |  _replace(_self, **kwds)\n",
      "     |      Return a new HToolsParameter object replacing specified fields with new values\n",
      "     |  \n",
      "     |  ----------------------------------------------------------------------\n",
      "     |  Class methods defined here:\n",
      "     |  \n",
      "     |  _make(iterable) from builtins.type\n",
      "     |      Make a new HToolsParameter object from a sequence or iterable\n",
      "     |  \n",
      "     |  ----------------------------------------------------------------------\n",
      "     |  Static methods defined here:\n",
      "     |  \n",
      "     |  __new__(_cls, name, type, mode, default, min, max, prompt)\n",
      "     |      Create new instance of HToolsParameter(name, type, mode, default, min, max, prompt)\n",
      "     |  \n",
      "     |  ----------------------------------------------------------------------\n",
      "     |  Data descriptors defined here:\n",
      "     |  \n",
      "     |  name\n",
      "     |      Alias for field number 0\n",
      "     |  \n",
      "     |  type\n",
      "     |      Alias for field number 1\n",
      "     |  \n",
      "     |  mode\n",
      "     |      Alias for field number 2\n",
      "     |  \n",
      "     |  default\n",
      "     |      Alias for field number 3\n",
      "     |  \n",
      "     |  min\n",
      "     |      Alias for field number 4\n",
      "     |  \n",
      "     |  max\n",
      "     |      Alias for field number 5\n",
      "     |  \n",
      "     |  prompt\n",
      "     |      Alias for field number 6\n",
      "     |  \n",
      "     |  ----------------------------------------------------------------------\n",
      "     |  Data and other attributes defined here:\n",
      "     |  \n",
      "     |  _fields = ('name', 'type', 'mode', 'default', 'min', 'max', 'prompt')\n",
      "     |  \n",
      "     |  _fields_defaults = {}\n",
      "     |  \n",
      "     |  ----------------------------------------------------------------------\n",
      "     |  Methods inherited from builtins.tuple:\n",
      "     |  \n",
      "     |  __add__(self, value, /)\n",
      "     |      Return self+value.\n",
      "     |  \n",
      "     |  __contains__(self, key, /)\n",
      "     |      Return key in self.\n",
      "     |  \n",
      "     |  __eq__(self, value, /)\n",
      "     |      Return self==value.\n",
      "     |  \n",
      "     |  __ge__(self, value, /)\n",
      "     |      Return self>=value.\n",
      "     |  \n",
      "     |  __getattribute__(self, name, /)\n",
      "     |      Return getattr(self, name).\n",
      "     |  \n",
      "     |  __getitem__(self, key, /)\n",
      "     |      Return self[key].\n",
      "     |  \n",
      "     |  __gt__(self, value, /)\n",
      "     |      Return self>value.\n",
      "     |  \n",
      "     |  __hash__(self, /)\n",
      "     |      Return hash(self).\n",
      "     |  \n",
      "     |  __iter__(self, /)\n",
      "     |      Implement iter(self).\n",
      "     |  \n",
      "     |  __le__(self, value, /)\n",
      "     |      Return self<=value.\n",
      "     |  \n",
      "     |  __len__(self, /)\n",
      "     |      Return len(self).\n",
      "     |  \n",
      "     |  __lt__(self, value, /)\n",
      "     |      Return self<value.\n",
      "     |  \n",
      "     |  __mul__(self, value, /)\n",
      "     |      Return self*value.\n",
      "     |  \n",
      "     |  __ne__(self, value, /)\n",
      "     |      Return self!=value.\n",
      "     |  \n",
      "     |  __rmul__(self, value, /)\n",
      "     |      Return value*self.\n",
      "     |  \n",
      "     |  count(self, value, /)\n",
      "     |      Return number of occurrences of value.\n",
      "     |  \n",
      "     |  index(self, value, start=0, stop=9223372036854775807, /)\n",
      "     |      Return first index of value.\n",
      "     |      \n",
      "     |      Raises ValueError if the value is not present.\n",
      "\n",
      "DATA\n",
      "    BIN_DIR = '/Users/tjaffe/space/sw/heasoft/heasoft-6.27/x86_64-apple-da...\n",
      "    DBG_MSG = 'Entering heasoftpy module at 2020-09-02 09:43:06'\n",
      "    DEFS_DIR = '/Users/tjaffe/space/sw/heasoft/heasoftpy/defs'\n",
      "    HEADAS_DIR = '/Users/tjaffe/space/sw/heasoft/heasoft-6.27/x86_64-apple...\n",
      "    LOGFILE_DATETIME = '2020-09-02_094306'\n",
      "    LOGGER = <Logger heasoftpy_initialization (DEBUG)>\n",
      "    LOG_DT_LST = ['2', '0', '2', '0', '-', '0', '9', '-', '0', '2', '_', '...\n",
      "    LOG_NAME = 'heasoftpy_initialization_2020-09-02_094306.log'\n",
      "    LOG_PATH = '/tmp/heasoftpy_initialization_2020-09-02_094306.log'\n",
      "    PERMITTED_MODES = {'A': 'a', 'H': 'h', 'L': 'l', 'Q': 'q', 'a': 'a', '...\n",
      "    PERMITTED_TYPES = ['b', 'i', 'r', 's', 'f']\n",
      "    PFILES_DIR = '/Users/tjaffe/space/sw/heasoft/heasoft-6.27/x86_64-apple...\n",
      "    THIS_MODULE_DIR = '/Users/tjaffe/space/sw/heasoft/heasoftpy'\n",
      "    THIS_MOD_VER = <heasoftpy.utils.ProgramVersion object>\n",
      "    func_mod_ver = <heasoftpy.utils.ProgramVersion object>\n",
      "    func_module_path = '/Users/tjaffe/space/sw/heasoft/heasoftpy/defs/batm...\n",
      "    par_file = 'batmasktaglc.par'\n",
      "    spec = ModuleSpec(name='batmasktaglc', loader=<_frozen_...space/sw/hea...\n",
      "    task_name = 'batmasktaglc'\n",
      "\n",
      "VERSION\n",
      "    0.1.8\n",
      "\n",
      "FILE\n",
      "    /Users/tjaffe/space/sw/heasoft/heasoftpy/__init__.py\n",
      "\n",
      "\n"
     ]
    }
   ],
   "source": [
    "help(hsp)"
   ]
  },
  {
   "cell_type": "markdown",
   "metadata": {},
   "source": [
    "<font color=red>Should accept a positional argument, i.e., hsp.fhelp(\"fdump\")</font>\n",
    "\n"
   ]
  },
  {
   "cell_type": "code",
   "execution_count": 7,
   "metadata": {},
   "outputs": [
    {
     "name": "stdout",
     "output_type": "stream",
     "text": [
      "NAME\n",
      "\n",
      "   fdump -- Convert the contents of a FITS table to ASCII format.\n",
      "\n",
      "USAGE\n",
      "\n",
      "        fdump infile[ext#] outfile columns rows\n",
      "\n",
      "DESCRIPTION\n",
      "\n",
      "   This task converts the information in the header and data of a FITS\n",
      "   table extension (either ASCII or binary table) into an ASCII format\n",
      "   file which then may be displayed, printed, or edited. If desired the\n",
      "   edited ASCII file may be converted back into a FITS file using the\n",
      "   fcreate task. By default, fdump will convert all the rows and columns\n",
      "   of the table extension as well as all the header records to the output\n",
      "   ASCII file, but only selected information may be output by setting the\n",
      "   input parameters appropriately. Fdump will fit as many table columns as\n",
      "   possible on the output page (the page width can be specified with the\n",
      "   pagewid parameter); any additional columns will be output onto\n",
      "   subsequent pages of output. The output format is either a default\n",
      "   format or specified with TDISPn keywords.\n",
      "\n",
      "   This task is primarily designed to display FITS table extensions and\n",
      "   currently it can only output the header records of the primary array or\n",
      "   image extensions. Use the fimgdmp task to output the data in a FITS\n",
      "   image.\n",
      "\n",
      "PARAMETERS\n",
      "\n",
      "   infile [file name]\n",
      "          The name of the FITS file (and extension number in square\n",
      "          brackets or indicated with a '+' i.e. filename.fits+2) to be\n",
      "          converted. If an asterisk is supplied for the extension number,\n",
      "          or if no extension number is specified, then all extensions in\n",
      "          the FITS file will be listed.\n",
      "\n",
      "   outfile [file name]\n",
      "          The name of the output ASCII file. If outfile = 'STDOUT' then\n",
      "          the output will be written to the standard output device\n",
      "          (usually the users terminal) rather than to a file. If the first\n",
      "          character of outfile is !, an existing file of the same name\n",
      "          will be overwritten.\n",
      "\n",
      "   columns = \"\" [string]\n",
      "          The names of all the columns to be listed in the output. The\n",
      "          names may be either the exact name of the column, or they may\n",
      "          contain wildcard characters (*, ?, or #), or they may contain\n",
      "          the integer number of the desired column (with the first column\n",
      "          = 1). The '*' wild card character matches any sequence of\n",
      "          characters (including zero characters) and the '?' character\n",
      "          matches any single character. The '#' wildcard will match any\n",
      "          consecutive string of decimal digits (0-9). If no names are\n",
      "          given, then by default all the columns in the table will be\n",
      "          output. The column names must be separated by commas or spaces\n",
      "          in the list. If a column name contains a space, the name must be\n",
      "          enclosed in double quotes (\"). If any names in the column list\n",
      "          are enclosed in double quotes, the entire list must be enclosed\n",
      "          in single quotes ('). eg '\"column 1\",column2'\n",
      "\n",
      "          Optionally the list of column names can be placed in an ASCII\n",
      "          file, one name per line, and then the name of the file,\n",
      "          proceeded by an \"@\" character may be given to the \"columns\"\n",
      "          parameter. If the first non-white character in the column list\n",
      "          is the negation character then the output file will contain\n",
      "          those columns NOT named in the remainder of the column list.\n",
      "\n",
      "          The 'flcol' task (with the NLIST parameter set to 1) may be used\n",
      "          to generate a list of column names suitable for input to this\n",
      "          task.\n",
      "\n",
      "   rows = - [string]\n",
      "          The range of rows to be output. The default of - means print all\n",
      "          rows. The first ten rows could be specified as ROWS=1-10 or just\n",
      "          ROWS=-10. To print the first ten rows and all rows from 900\n",
      "          through the last (inclusive), use ROWS=1-10,900-. ROWS=1,3,7,23\n",
      "          will print only those four rows.\n",
      "\n",
      "   (xdisp = \" \") [string]\n",
      "          You can have options \"D\" or \"d\" (decimal integer), \"B\" or\n",
      "          \"b\"(bit string) and default option. While the default option\n",
      "          writes a bit vector as 8-bit groups with a 'b' prefix, The \"D\"\n",
      "          option codes 8 bits into a decimal integer, and \"B\" option\n",
      "          displays bits as a bit string with the length of the vector. For\n",
      "          example, for a bit vector of (1,0,0,0,0,1,0,1,1,1), the displays\n",
      "          are:\n",
      "\n",
      "                    default option:           b10000101\n",
      "                                              b11\n",
      "                    D option:                 133\n",
      "                                              192\n",
      "                    B option:                 b1000010111\n",
      "\n",
      "        (fldsep = \" \") [string]\n",
      "                This parameter would enable the user to define a one\n",
      "                character field separator between the columns. (The\n",
      "                default field separator is space.)\n",
      "\n",
      "        (pagewidth = 80) [integer, min=1, max=256]\n",
      "                The width of the output for dumping the ASCII data. If the\n",
      "                width of all the columns to be dumped is wider than\n",
      "                PAGEWIDTH, then the columns will be written to multiple\n",
      "                pages of output.\n",
      "\n",
      "        (prhead = yes) [boolean]\n",
      "                Should the header keywords be output?\n",
      "\n",
      "        (prdata = yes) [boolean]\n",
      "                Should the table extension data be output?\n",
      "\n",
      "        (showcol = yes) [boolean]\n",
      "                List the column names at the top of each column in the\n",
      "                output?\n",
      "\n",
      "        (showunit = yes) [boolean]\n",
      "                Write the column units (if any) at the top of each column?\n",
      "\n",
      "        (showrow = yes) [boolean]\n",
      "                Write the row number at the left edge of the output page?\n",
      "\n",
      "        (showscale = yes) [boolean]\n",
      "                Whether to show the scaled values, or the actual values in\n",
      "                the file.\n",
      "\n",
      "        (align = yes) [boolean]\n",
      "                Align each column (by increasing the column width if\n",
      "                necessary) so that it is underneath the column name?\n",
      "\n",
      "        (skip = 1) [integer]\n",
      "                This option allows the user to display only every nth row.\n",
      "                The default is for all rows to be shown.\n",
      "\n",
      "        (tdisp = no) [boolean]\n",
      "                The parameter controls whether the program looks for\n",
      "                TDISPn keywords for the format of the output. If tdisp is\n",
      "                true, and no TDISPn keyword exists for the requested\n",
      "                column, the default output format is used. Note also that\n",
      "                if the column name or units is longer than the specified\n",
      "                keyword, the output format will be widened appropriately.\n",
      "                TDISPn is not supported for logical, complex, or double\n",
      "                complex columns, nor for ASCII tables.\n",
      "\n",
      "        (wrap = no) [boolean]\n",
      "                If true, each row will be displayed in its entirety. The\n",
      "                display will be wrapped at pagewidth characters, and take\n",
      "                as many lines as necessary. If false, the display consists\n",
      "                of as many columns as fit in pagewidth characters, and for\n",
      "                all rows. The remaining columns are displayed in another\n",
      "                section.\n",
      "\n",
      "        (page = yes) [boolean]\n",
      "                If true, and if the output is sent to STDOUT, the output\n",
      "                will be paged, so that user is prompted after every 24\n",
      "                lines.\n",
      "\n",
      "        (clobber = no) [boolean]\n",
      "                If true, an existing file with the same name as the\n",
      "                requested output file will be overwritten.\n",
      "\n",
      "        (sensecase = yes) [boolean]\n",
      "                If true, column names will be searched for in a\n",
      "                case-sensitive manner.\n",
      "\n",
      "        more = yes [boolean]\n",
      "                Whether to continue paging, or just quit at this point.\n",
      "                This parameter should not be entered on the command line,\n",
      "                and is only used for output to the screen.\n",
      "\n",
      "EXAMPLES\n",
      "\n",
      "          1. Dump the contents of the FITS table 'junk.fits' to the\n",
      "          terminal:\n",
      "\n",
      "\n",
      "               ft> fdump junk.fits STDOUT\n",
      "\n",
      "\n",
      "          2. Dump 'junk.fits', including only the columns specified in the\n",
      "          colnames.lis file.\n",
      "\n",
      "\n",
      "               ft> flcol junk.fits nlist=1 outfile = colnames.lis\n",
      "\n",
      "               ft> edit colnames.lis\n",
      "                  (Delete or rearrange the order of the column names)\n",
      "\n",
      "               ft> fdump junk.fits columns=@colnames.lis\n",
      "\n",
      "\n",
      "          3. Dump only the first 100 rows of data in the file 'big.fits'\n",
      "          to an output file 'big.dat'; do not output the header keywords.\n",
      "\n",
      "                  ft> fdump big.fits big.dat rows=1-100 prhead=no\n",
      "\n",
      "NOTES:\n",
      "\n",
      "          FDUMP truncates trailing blanks.\n",
      "\n",
      "BUGS\n",
      "\n",
      "          Fdump cannot display the data in a FITS primary array or image\n",
      "          extension.\n",
      "\n",
      "          If the width of a scaled column in an ASCII table is less than 8\n",
      "          characters, the value cannot be displayed.\n",
      "\n",
      "SEE ALSO\n",
      "\n",
      "          ftlist, ftcreate. fv, the interactive FITS file editor, can also\n",
      "          be used to view the contents of a FITS file.\n",
      "\n",
      "CATEGORY\n",
      "\n",
      "          Jan92 ftools.futils\n",
      "\n"
     ]
    }
   ],
   "source": [
    "##  This doesn't work (2020-08-27).  \n",
    "#hsp.fhelp(\"fdump\")\n",
    "print(hsp.fhelp(task=\"fdump\").stdout)"
   ]
  },
  {
   "cell_type": "markdown",
   "metadata": {},
   "source": [
    "<font color=green>Prompting now works in a notebook</font>  **<font color=red>But it does not present the default or previously used values to accept, which I think it should the way that other FTOOLS do so you can just hit return.</font>**"
   ]
  },
  {
   "cell_type": "markdown",
   "metadata": {},
   "source": [
    "<font color=green>These two print the same info on the parameters, though the second shows up in the pager.  </font>"
   ]
  },
  {
   "cell_type": "code",
   "execution_count": 13,
   "metadata": {},
   "outputs": [],
   "source": [
    "#help(hsp.fdump)\n",
    "hsp.fdump?"
   ]
  },
  {
   "cell_type": "markdown",
   "metadata": {},
   "source": [
    "## Running and results\n",
    "\n",
    "<font color=green>Returned data object:</font>"
   ]
  },
  {
   "cell_type": "code",
   "execution_count": 9,
   "metadata": {},
   "outputs": [
    {
     "name": "stdout",
     "output_type": "stream",
     "text": [
      " \n",
      " \n",
      "        ERROR\n",
      "        counts/s\n",
      "      1   1.3094280E+00\n",
      "      2   1.5160930E+00\n",
      "\n"
     ]
    }
   ],
   "source": [
    "#  By default, everything to STDOUT\n",
    "result=hsp.fdump(infile='../tests/my_rate.fit',outfile='STDOUT',columns='ERROR',rows='1-2',more='n',prhead='no')\n",
    "print(result.stdout)"
   ]
  },
  {
   "cell_type": "code",
   "execution_count": 17,
   "metadata": {},
   "outputs": [
    {
     "name": "stdout",
     "output_type": "stream",
     "text": [
      "Name of optional output file> STDOUT\n",
      "Names of columns> -\n",
      "Lists of rows> 1-2\n",
      "More?> y\n",
      " \n",
      " \n",
      "        TIME                    RATE            ERROR\n",
      "        d                       counts/s        counts/s\n",
      "      1   7.353720464259241E+02   2.3594639E+01   1.3094280E+00\n",
      "      2   7.353731574259291E+02   2.3850025E+01   1.5160930E+00\n",
      "\n"
     ]
    }
   ],
   "source": [
    "#  Prompting\n",
    "result=hsp.fdump(infile='../tests/my_rate.fit',prhead=\"no\")\n",
    "print(result.stdout)"
   ]
  },
  {
   "cell_type": "markdown",
   "metadata": {},
   "source": [
    "Seeing what's happening with error handling.  This example should produce errors.  \n",
    "\n",
    "<font color=green>Error successfully trapped as an execution error from the tool</font>"
   ]
  },
  {
   "cell_type": "code",
   "execution_count": 18,
   "metadata": {},
   "outputs": [
    {
     "name": "stdout",
     "output_type": "stream",
     "text": [
      "Error successfully trapped as HeasoftpyExecutionError with message:\n",
      "Error running: fdump\n",
      "returncode: 1\n",
      "output:\n",
      "fdump3.5 : unable to open infile\n",
      "\n"
     ]
    }
   ],
   "source": [
    "from heasoftpy.core.errors import HeasoftpyExecutionError\n",
    "try:\n",
    "    result=hsp.fdump(infile='foo.fits',outfile='STDOUT',columns='-',rows='-',more='y')\n",
    "    result\n",
    "except HeasoftpyExecutionError as e:\n",
    "    print(\"Error successfully trapped as HeasoftpyExecutionError with message:{}\".format(e))\n",
    "except Exception as e:\n",
    "    print(\"Unexpected status--{}--\".format(e))"
   ]
  },
  {
   "cell_type": "markdown",
   "metadata": {},
   "source": [
    "Ftverify is an interesting case.  It can print things to STDERR but usually returns a good error status anyway.  How is this handled in heasofpy?"
   ]
  },
  {
   "cell_type": "markdown",
   "metadata": {},
   "source": [
    "Split errors to stderr instead?  <font color=red>Issues with ftverify.</font>"
   ]
  },
  {
   "cell_type": "code",
   "execution_count": 19,
   "metadata": {},
   "outputs": [
    {
     "ename": "HeasoftpyExecutionError",
     "evalue": "\nError running: ftverify\nreturncode: 6\noutput:\nERROR: Device not configured\nTask ftverify 0.0 terminating with status 6\nUnable to redirect prompts to the /dev/tty (at headas_stdio.c:152)\n",
     "output_type": "error",
     "traceback": [
      "\u001b[0;31m---------------------------------------------------------------------------\u001b[0m",
      "\u001b[0;31mHeasoftpyExecutionError\u001b[0m                   Traceback (most recent call last)",
      "\u001b[0;32m<ipython-input-19-d532c0d2ab98>\u001b[0m in \u001b[0;36m<module>\u001b[0;34m\u001b[0m\n\u001b[1;32m      5\u001b[0m     \u001b[0minfile\u001b[0m\u001b[0;34m=\u001b[0m\u001b[0;34m'../tests/my_rate.fit'\u001b[0m\u001b[0;34m,\u001b[0m\u001b[0;34m\u001b[0m\u001b[0;34m\u001b[0m\u001b[0m\n\u001b[1;32m      6\u001b[0m     \u001b[0mnumerrs\u001b[0m\u001b[0;34m=\u001b[0m\u001b[0;36m10\u001b[0m\u001b[0;34m,\u001b[0m\u001b[0mnumwrns\u001b[0m\u001b[0;34m=\u001b[0m\u001b[0;36m10\u001b[0m\u001b[0;34m,\u001b[0m\u001b[0;34m\u001b[0m\u001b[0;34m\u001b[0m\u001b[0m\n\u001b[0;32m----> 7\u001b[0;31m     outfile=\"ftverify.out\")\n\u001b[0m\u001b[1;32m      8\u001b[0m \u001b[0mprint\u001b[0m\u001b[0;34m(\u001b[0m\u001b[0mresult\u001b[0m\u001b[0;34m.\u001b[0m\u001b[0mstdout\u001b[0m\u001b[0;34m)\u001b[0m\u001b[0;34m\u001b[0m\u001b[0;34m\u001b[0m\u001b[0m\n\u001b[1;32m      9\u001b[0m \u001b[0mprint\u001b[0m\u001b[0;34m(\u001b[0m\u001b[0;34m\"--\"\u001b[0m\u001b[0;34m)\u001b[0m\u001b[0;34m\u001b[0m\u001b[0;34m\u001b[0m\u001b[0m\n",
      "\u001b[0;32m~/space/sw/heasoft/heasoftpy/defs/ftverify.py\u001b[0m in \u001b[0;36mftverify\u001b[0;34m(*args, **kwargs)\u001b[0m\n\u001b[1;32m     92\u001b[0m     \u001b[0mtask_res\u001b[0m \u001b[0;34m=\u001b[0m \u001b[0mhsp_res\u001b[0m\u001b[0;34m.\u001b[0m\u001b[0mResult\u001b[0m\u001b[0;34m(\u001b[0m\u001b[0mtask_proc\u001b[0m\u001b[0;34m.\u001b[0m\u001b[0mreturncode\u001b[0m\u001b[0;34m,\u001b[0m \u001b[0mtask_out\u001b[0m\u001b[0;34m,\u001b[0m \u001b[0mtask_err\u001b[0m\u001b[0;34m,\u001b[0m \u001b[0mtask_params\u001b[0m\u001b[0;34m)\u001b[0m\u001b[0;34m\u001b[0m\u001b[0;34m\u001b[0m\u001b[0m\n\u001b[1;32m     93\u001b[0m     \u001b[0;32mif\u001b[0m \u001b[0mtask_res\u001b[0m\u001b[0;34m.\u001b[0m\u001b[0mreturncode\u001b[0m\u001b[0;34m:\u001b[0m\u001b[0;34m\u001b[0m\u001b[0;34m\u001b[0m\u001b[0m\n\u001b[0;32m---> 94\u001b[0;31m         \u001b[0;32mraise\u001b[0m \u001b[0mhsp_err\u001b[0m\u001b[0;34m.\u001b[0m\u001b[0mHeasoftpyExecutionError\u001b[0m\u001b[0;34m(\u001b[0m\u001b[0mtask_args\u001b[0m\u001b[0;34m[\u001b[0m\u001b[0;36m0\u001b[0m\u001b[0;34m]\u001b[0m\u001b[0;34m,\u001b[0m \u001b[0mtask_res\u001b[0m\u001b[0;34m)\u001b[0m\u001b[0;34m\u001b[0m\u001b[0;34m\u001b[0m\u001b[0m\n\u001b[0m\u001b[1;32m     95\u001b[0m     \u001b[0;32melse\u001b[0m\u001b[0;34m:\u001b[0m\u001b[0;34m\u001b[0m\u001b[0;34m\u001b[0m\u001b[0m\n\u001b[1;32m     96\u001b[0m         \u001b[0mupdated_par_contents\u001b[0m \u001b[0;34m=\u001b[0m \u001b[0mhsp_ape\u001b[0m\u001b[0;34m.\u001b[0m\u001b[0mread_par_file\u001b[0m\u001b[0;34m(\u001b[0m\u001b[0mpar_path\u001b[0m\u001b[0;34m)\u001b[0m\u001b[0;34m\u001b[0m\u001b[0;34m\u001b[0m\u001b[0m\n",
      "\u001b[0;31mHeasoftpyExecutionError\u001b[0m: \nError running: ftverify\nreturncode: 6\noutput:\nERROR: Device not configured\nTask ftverify 0.0 terminating with status 6\nUnable to redirect prompts to the /dev/tty (at headas_stdio.c:152)\n"
     ]
    }
   ],
   "source": [
    "## Tell it to separate out STDERR.  \n",
    "if os.path.exists(\"ftverify.out\"):\n",
    "    os.unlink(\"ftverify.out\")\n",
    "result=hsp.ftverify(\n",
    "    infile='../tests/my_rate.fit',\n",
    "    numerrs=10,numwrns=10,\n",
    "    outfile=\"ftverify.out\")\n",
    "print(result.stdout)\n",
    "print(\"--\")\n",
    "print(result.stderr)"
   ]
  },
  {
   "cell_type": "code",
   "execution_count": 20,
   "metadata": {},
   "outputs": [
    {
     "ename": "HeasoftpyExecutionError",
     "evalue": "\nError running: ftverify\nreturncode: 6\nstdout:\nUnable to redirect prompts to the /dev/tty (at headas_stdio.c:152)\n\nstderr:\nERROR: Device not configured\nTask ftverify 0.0 terminating with status 6\n",
     "output_type": "error",
     "traceback": [
      "\u001b[0;31m---------------------------------------------------------------------------\u001b[0m",
      "\u001b[0;31mHeasoftpyExecutionError\u001b[0m                   Traceback (most recent call last)",
      "\u001b[0;32m<ipython-input-20-03375b7353bf>\u001b[0m in \u001b[0;36m<module>\u001b[0;34m\u001b[0m\n\u001b[1;32m      6\u001b[0m     \u001b[0mnumerrs\u001b[0m\u001b[0;34m=\u001b[0m\u001b[0;36m10\u001b[0m\u001b[0;34m,\u001b[0m\u001b[0mnumwrns\u001b[0m\u001b[0;34m=\u001b[0m\u001b[0;36m10\u001b[0m\u001b[0;34m,\u001b[0m\u001b[0;34m\u001b[0m\u001b[0;34m\u001b[0m\u001b[0m\n\u001b[1;32m      7\u001b[0m     \u001b[0moutfile\u001b[0m\u001b[0;34m=\u001b[0m\u001b[0;34m\"ftverify.out\"\u001b[0m\u001b[0;34m,\u001b[0m\u001b[0;34m\u001b[0m\u001b[0;34m\u001b[0m\u001b[0m\n\u001b[0;32m----> 8\u001b[0;31m     stderr=True)\n\u001b[0m\u001b[1;32m      9\u001b[0m \u001b[0mprint\u001b[0m\u001b[0;34m(\u001b[0m\u001b[0mresult\u001b[0m\u001b[0;34m.\u001b[0m\u001b[0mstdout\u001b[0m\u001b[0;34m)\u001b[0m\u001b[0;34m\u001b[0m\u001b[0;34m\u001b[0m\u001b[0m\n\u001b[1;32m     10\u001b[0m \u001b[0mprint\u001b[0m\u001b[0;34m(\u001b[0m\u001b[0;34m\"--\"\u001b[0m\u001b[0;34m)\u001b[0m\u001b[0;34m\u001b[0m\u001b[0;34m\u001b[0m\u001b[0m\n",
      "\u001b[0;32m~/space/sw/heasoft/heasoftpy/defs/ftverify.py\u001b[0m in \u001b[0;36mftverify\u001b[0;34m(*args, **kwargs)\u001b[0m\n\u001b[1;32m     92\u001b[0m     \u001b[0mtask_res\u001b[0m \u001b[0;34m=\u001b[0m \u001b[0mhsp_res\u001b[0m\u001b[0;34m.\u001b[0m\u001b[0mResult\u001b[0m\u001b[0;34m(\u001b[0m\u001b[0mtask_proc\u001b[0m\u001b[0;34m.\u001b[0m\u001b[0mreturncode\u001b[0m\u001b[0;34m,\u001b[0m \u001b[0mtask_out\u001b[0m\u001b[0;34m,\u001b[0m \u001b[0mtask_err\u001b[0m\u001b[0;34m,\u001b[0m \u001b[0mtask_params\u001b[0m\u001b[0;34m)\u001b[0m\u001b[0;34m\u001b[0m\u001b[0;34m\u001b[0m\u001b[0m\n\u001b[1;32m     93\u001b[0m     \u001b[0;32mif\u001b[0m \u001b[0mtask_res\u001b[0m\u001b[0;34m.\u001b[0m\u001b[0mreturncode\u001b[0m\u001b[0;34m:\u001b[0m\u001b[0;34m\u001b[0m\u001b[0;34m\u001b[0m\u001b[0m\n\u001b[0;32m---> 94\u001b[0;31m         \u001b[0;32mraise\u001b[0m \u001b[0mhsp_err\u001b[0m\u001b[0;34m.\u001b[0m\u001b[0mHeasoftpyExecutionError\u001b[0m\u001b[0;34m(\u001b[0m\u001b[0mtask_args\u001b[0m\u001b[0;34m[\u001b[0m\u001b[0;36m0\u001b[0m\u001b[0;34m]\u001b[0m\u001b[0;34m,\u001b[0m \u001b[0mtask_res\u001b[0m\u001b[0;34m)\u001b[0m\u001b[0;34m\u001b[0m\u001b[0;34m\u001b[0m\u001b[0m\n\u001b[0m\u001b[1;32m     95\u001b[0m     \u001b[0;32melse\u001b[0m\u001b[0;34m:\u001b[0m\u001b[0;34m\u001b[0m\u001b[0;34m\u001b[0m\u001b[0m\n\u001b[1;32m     96\u001b[0m         \u001b[0mupdated_par_contents\u001b[0m \u001b[0;34m=\u001b[0m \u001b[0mhsp_ape\u001b[0m\u001b[0;34m.\u001b[0m\u001b[0mread_par_file\u001b[0m\u001b[0;34m(\u001b[0m\u001b[0mpar_path\u001b[0m\u001b[0;34m)\u001b[0m\u001b[0;34m\u001b[0m\u001b[0;34m\u001b[0m\u001b[0m\n",
      "\u001b[0;31mHeasoftpyExecutionError\u001b[0m: \nError running: ftverify\nreturncode: 6\nstdout:\nUnable to redirect prompts to the /dev/tty (at headas_stdio.c:152)\n\nstderr:\nERROR: Device not configured\nTask ftverify 0.0 terminating with status 6\n"
     ]
    }
   ],
   "source": [
    "## Tell it to separate out STDERR.  \n",
    "if os.path.exists(\"ftverify.out\"):\n",
    "    os.unlink(\"ftverify.out\")\n",
    "result=hsp.ftverify(\n",
    "    infile='../tests/my_rate.fit',\n",
    "    numerrs=10,numwrns=10,\n",
    "    outfile=\"ftverify.out\",\n",
    "    stderr=True)\n",
    "print(result.stdout)\n",
    "print(\"--\")\n",
    "print(result.stderr)"
   ]
  },
  {
   "cell_type": "markdown",
   "metadata": {},
   "source": [
    "## Parameter interface\n",
    "\n",
    "### Interactive\n",
    "\n",
    "<font color=green>This should then prompt for the non-hidden fdump parameters, which it does:</font>\n",
    "<font color=red>But doesn't work for ftverify</font>"
   ]
  },
  {
   "cell_type": "code",
   "execution_count": 22,
   "metadata": {
    "scrolled": true
   },
   "outputs": [
    {
     "name": "stdout",
     "output_type": "stream",
     "text": [
      "Name of FITS file to verify > ../tests/my_rate.fit\n",
      "number of errors (output) > -\n",
      "number of warnings (output) > -\n"
     ]
    },
    {
     "ename": "HeasoftpyExecutionError",
     "evalue": "\nError running: ftverify\nreturncode: 6\noutput:\nERROR: Device not configured\nTask ftverify 0.0 terminating with status 6\nUnable to redirect prompts to the /dev/tty (at headas_stdio.c:152)\n",
     "output_type": "error",
     "traceback": [
      "\u001b[0;31m---------------------------------------------------------------------------\u001b[0m",
      "\u001b[0;31mHeasoftpyExecutionError\u001b[0m                   Traceback (most recent call last)",
      "\u001b[0;32m<ipython-input-22-9de044b91cd1>\u001b[0m in \u001b[0;36m<module>\u001b[0;34m\u001b[0m\n\u001b[0;32m----> 1\u001b[0;31m \u001b[0mresult\u001b[0m\u001b[0;34m=\u001b[0m\u001b[0mhsp\u001b[0m\u001b[0;34m.\u001b[0m\u001b[0mftverify\u001b[0m\u001b[0;34m(\u001b[0m\u001b[0;34m)\u001b[0m\u001b[0;34m\u001b[0m\u001b[0;34m\u001b[0m\u001b[0m\n\u001b[0m\u001b[1;32m      2\u001b[0m \u001b[0mprint\u001b[0m\u001b[0;34m(\u001b[0m\u001b[0mresult\u001b[0m\u001b[0;34m.\u001b[0m\u001b[0mstdout\u001b[0m\u001b[0;34m)\u001b[0m\u001b[0;34m\u001b[0m\u001b[0;34m\u001b[0m\u001b[0m\n",
      "\u001b[0;32m~/space/sw/heasoft/heasoftpy/defs/ftverify.py\u001b[0m in \u001b[0;36mftverify\u001b[0;34m(*args, **kwargs)\u001b[0m\n\u001b[1;32m     92\u001b[0m     \u001b[0mtask_res\u001b[0m \u001b[0;34m=\u001b[0m \u001b[0mhsp_res\u001b[0m\u001b[0;34m.\u001b[0m\u001b[0mResult\u001b[0m\u001b[0;34m(\u001b[0m\u001b[0mtask_proc\u001b[0m\u001b[0;34m.\u001b[0m\u001b[0mreturncode\u001b[0m\u001b[0;34m,\u001b[0m \u001b[0mtask_out\u001b[0m\u001b[0;34m,\u001b[0m \u001b[0mtask_err\u001b[0m\u001b[0;34m,\u001b[0m \u001b[0mtask_params\u001b[0m\u001b[0;34m)\u001b[0m\u001b[0;34m\u001b[0m\u001b[0;34m\u001b[0m\u001b[0m\n\u001b[1;32m     93\u001b[0m     \u001b[0;32mif\u001b[0m \u001b[0mtask_res\u001b[0m\u001b[0;34m.\u001b[0m\u001b[0mreturncode\u001b[0m\u001b[0;34m:\u001b[0m\u001b[0;34m\u001b[0m\u001b[0;34m\u001b[0m\u001b[0m\n\u001b[0;32m---> 94\u001b[0;31m         \u001b[0;32mraise\u001b[0m \u001b[0mhsp_err\u001b[0m\u001b[0;34m.\u001b[0m\u001b[0mHeasoftpyExecutionError\u001b[0m\u001b[0;34m(\u001b[0m\u001b[0mtask_args\u001b[0m\u001b[0;34m[\u001b[0m\u001b[0;36m0\u001b[0m\u001b[0;34m]\u001b[0m\u001b[0;34m,\u001b[0m \u001b[0mtask_res\u001b[0m\u001b[0;34m)\u001b[0m\u001b[0;34m\u001b[0m\u001b[0;34m\u001b[0m\u001b[0m\n\u001b[0m\u001b[1;32m     95\u001b[0m     \u001b[0;32melse\u001b[0m\u001b[0;34m:\u001b[0m\u001b[0;34m\u001b[0m\u001b[0;34m\u001b[0m\u001b[0m\n\u001b[1;32m     96\u001b[0m         \u001b[0mupdated_par_contents\u001b[0m \u001b[0;34m=\u001b[0m \u001b[0mhsp_ape\u001b[0m\u001b[0;34m.\u001b[0m\u001b[0mread_par_file\u001b[0m\u001b[0;34m(\u001b[0m\u001b[0mpar_path\u001b[0m\u001b[0;34m)\u001b[0m\u001b[0;34m\u001b[0m\u001b[0;34m\u001b[0m\u001b[0m\n",
      "\u001b[0;31mHeasoftpyExecutionError\u001b[0m: \nError running: ftverify\nreturncode: 6\noutput:\nERROR: Device not configured\nTask ftverify 0.0 terminating with status 6\nUnable to redirect prompts to the /dev/tty (at headas_stdio.c:152)\n"
     ]
    }
   ],
   "source": [
    "#result=hsp.ftverify()\n",
    "#print(result.stdout)"
   ]
  },
  {
   "cell_type": "markdown",
   "metadata": {},
   "source": [
    "<font color=red>**Why does this prompt differently from the command line:**  It looks like heasoftpy is doing the righ tthing and ftverify on the command line is not.  These params have mode a, and the 'mode' parameter itself is set to 'ql'.  So why does ftverify NOT query for them?</font>\n",
    "\n",
    "<code>\n",
    "In [4]: hsp.ftverify()\n",
    "Name of FITS file to verify > foo.fits\n",
    "number of errors (output) > -\n",
    "number of warnings (output) > -\n",
    "Out[4]: Result(returncode=0, stdout=' \\n               ftverify 4.18 (CFITSIO V3.420)               \\n               ------------------------------               \\n \\nHEASARC conventions are being checked.\\n \\nFile: foo.fits\\n*** Error:   (from CFITSIO error stack:)\\n             failed to find or open the following file: (ffopen)\\n             foo.fits\\n             \\n**** Abort Verification: Fatal Error. ****\\n', stderr=None, params={'infile': 'foo.fits', 'numerrs': '-', 'numwrns': '-'}, custom=None)\n",
    "\n",
    "\n",
    "Suspended\n",
    "(hspdev) 9:43 ~/space/sw/heasoft > ftverify foo.fits\n",
    "\n",
    "               ftverify 4.18 (CFITSIO V3.420)\n",
    "               ------------------------------\n",
    "\n",
    "HEASARC conventions are being checked.\n",
    "\n",
    "File: foo.fits\n",
    "*** Error:   (from CFITSIO error stack:)\n",
    "             failed to find or open the following file: (ffopen)\n",
    "             foo.fits\n",
    "\n",
    "**** Abort Verification: Fatal Error. ****\n",
    "</code>"
   ]
  },
  {
   "cell_type": "markdown",
   "metadata": {},
   "source": [
    "<font color=green>It also returns a params dictionary that you can hand it back again</font>\n",
    "\n",
    "<font color=red> This apparently *used* to work but doesn't anymore.  I guess it used to be a simple dictionary of argument and its value, whereas now it's a dictionary of dictionaries with the full contents of the parameter file.  Hm.</font>"
   ]
  },
  {
   "cell_type": "code",
   "execution_count": 30,
   "metadata": {},
   "outputs": [],
   "source": [
    "#print(result.params)\n",
    "#result.params['prhead']='no'\n",
    "#print(hsp.fdump(**result.params).stdout)"
   ]
  },
  {
   "cell_type": "code",
   "execution_count": 36,
   "metadata": {},
   "outputs": [],
   "source": [
    "params=result.params\n",
    "params['prhead']['default']='no'\n",
    "# Can't do something nice to call it again with that change."
   ]
  },
  {
   "cell_type": "markdown",
   "metadata": {},
   "source": [
    "### Learning behavior\n",
    "\n",
    "<font color=green>This seems to work</font>"
   ]
  },
  {
   "cell_type": "code",
   "execution_count": 32,
   "metadata": {},
   "outputs": [
    {
     "data": {
      "text/plain": [
       "[]"
      ]
     },
     "execution_count": 32,
     "metadata": {},
     "output_type": "execute_result"
    }
   ],
   "source": [
    "## Set up a local pfiles we can mess with\n",
    "if os.path.exists(\"pfiles.local\"):\n",
    "    shutil.rmtree(\"pfiles.local\")\n",
    "os.mkdir(\"pfiles.local\")\n",
    "os.environ[\"PFILES\"]=\"./pfiles.local;/Users/tjaffe/space/sw/heasoft/heasoft-6.22.1/x86_64-apple-darwin17.4.0/syspfiles\"\n",
    "os.listdir(\"pfiles.local\")"
   ]
  },
  {
   "cell_type": "code",
   "execution_count": 33,
   "metadata": {},
   "outputs": [
    {
     "data": {
      "text/plain": [
       "'./pfiles.local;/Users/tjaffe/space/sw/heasoft/heasoft-6.22.1/x86_64-apple-darwin17.4.0/syspfiles'"
      ]
     },
     "execution_count": 33,
     "metadata": {},
     "output_type": "execute_result"
    }
   ],
   "source": [
    "os.environ['PFILES']"
   ]
  },
  {
   "cell_type": "markdown",
   "metadata": {},
   "source": [
    "Nothing in the pfiles.  Call with just the required input parameter:"
   ]
  },
  {
   "cell_type": "code",
   "execution_count": 34,
   "metadata": {
    "scrolled": true
   },
   "outputs": [
    {
     "data": {
      "text/plain": [
       "\"SIMPLE  =                    T / file does conform to FITS standard\\nBITPIX  =                    8 / number of bits per data pixel\\nNAXIS   =                    0 / number of data axes\\nEXTEND  =                    T / FITS dataset may contain extensions\\nCOMMENT   FITS (Flexible Image Transport System) format defined in Astronomy and\\nCOMMENT   Astrophysics Supplement Series v44/p363, v44/p371, v73/p359, v73/p365.\\nCOMMENT   Contact the NASA Science Office of Standards and Technology for the\\nCOMMENT   FITS Definition document #100 and other FITS information.\\nORIGIN  = 'NASA/GSFC/XTE/MIT_c' / Origin of FITS file\\nTELESCOP= 'XTE     '           / Mission Name\\nINSTRUME= 'ASM     '           / Instrument Name\\nOBJECT  = 'grs1915+105'        / Common Object name\\nRA_OBJ  =               288.80 / Object right ascension in degrees\\nDEC_OBJ =                10.95 / Object declination in degrees\\nEQUINOX =              2000.00 / Equinox for R.A. and Dec.\\nRADECSYS= 'FK5     '           / World coord. system for this file (FK4 or FK5)\\nCONTENT = 'Light Curves'       / Content of the files\\nANL_TYPE= 'DEFINITIVE'         / Type of analysis (QUICKLOOK or DEFINITIVE)\\nMJDREFI =                49353 / Reference MJD - integer part (integer)\\nMJDREFF =  6.965740760000000E-04 / Reference MJD - Fractional part (8 byte real)\\nDATE-OBS= '06/01/96'           / Date of earliest observation included in file (\\nTIME-OBS= '08:56:00'           / Time on Date of earliest observation included i\\nDATE-END= '08/01/96'           / Date of latest observation included in file (dd\\nTIME-END= '01:51:21'           / Time on Date of latest observation included in\\nDATE    = '03/09/96'           / FITS file creation date (dd/mm/yy)\\nCREATOR = 'mk_asm_infits'      / Name of program which produced this file\\nCHECKSUM= '0ggV1ggT0ggT0ggT'   / encoded HDU checksum updated on 26/09/96\\nDATASUM = '0000000000000000'   / data checksum updated on 03/09/96\\nEND\\n \\nXTENSION= 'BINTABLE'           / binary table extension\\nBITPIX  =                    8 / 8-bit bytes\\nNAXIS   =                    2 / 2-dimensional binary table\\nNAXIS1  =                   16 / width of table in bytes\\nNAXIS2  =                 5371 /  Number of rows\\nPCOUNT  =                    0 / size of special data area\\nGCOUNT  =                    1 / one data group (required keyword)\\nTFIELDS =                    3 / number of fields in each row\\nTTYPE1  = 'TIME    '           / label for field   1\\nTFORM1  = 'D       '           / data format of the field: 8-byte DOUBLE\\nTUNIT1  = 'd       '           / physical unit of field\\nTTYPE2  = 'RATE    '           / label for field   8\\nTFORM2  = 'E       '           / data format of the field: 4-byte REAL\\nTUNIT2  = 'counts/s'           / physical unit of field\\nTTYPE3  = 'ERROR   '           / label for field   9\\nTFORM3  = 'E       '           / data format of the field: 4-byte REAL\\nTUNIT3  = 'counts/s'           / physical unit of field\\nEXTNAME = 'RATE    '           / name of this binary table extension\\nORIGIN  = 'NASA/GSFC/XTE/MIT_c' / Origin of FITS file\\nTELESCOP= 'XTE     '           / Mission Name\\nINSTRUME= 'ASM     '           / Instrument Name\\nOBJECT  = 'grs1915+105'        / Common Object name\\nRA_OBJ  =               288.80 / Object right ascension in degrees\\nDEC_OBJ =                10.95 / Object right ascension in degrees\\nEQUINOX =              2000.00 / Equinox for R.A. and Dec.\\nRADECSYS= 'FK5     '           / World coord. system for this file (FK4 or FK5)\\nCONTENT = 'Light Curves'       / Content of the files\\nDATE-OBS= '06/01/96'           / Date of earliest observation included in file (\\nTIME-OBS= '08:56:00'           / Time on Date of earliest observation included i\\nDATE-END= '12/03/97'           / Date of latest observation included in f\\nTIME-END= '06:18:34'           / Time on Date of latest observation inclu\\nDATE    = '03/09/96'           / FITS file creation date (dd/mm/yy)\\nCREATOR = 'mk_asm_infits'      / Name of program which produced this file\\nMJDREFI =                49353 / Reference MJD - integer part (integer)\\nMJDREFF =  6.965740760000000E-04 / Reference MJD - Fractional part (8 byte real)\\nTIMESYS = 'TT      '           / System used to define the time\\nTIMEUNIT= 'd       '           / Unit of time for TSTART and TSTOP\\nTIMEREF = 'LOCAL   '           / LOCAL,SOLARTIME,HELIOCENTRIC or BARYCENTRIC\\nTASSIGN = 'SATELLITE'          / Specified where the time assignment is made(SAT\\nTIERRELA= 'Timing error as a rate' / Relative timing error (expressed as rate)\\nTIERABSO= 'Absolute timing precision' / Absolute timing precision\\nCLOCKCOR=                    F / Has the time been corrected to UT?\\nBACKAPP =                    T / Background correction applied (True/False)\\nVIGNAPP =                    T / Vignetting correction applied (True/False)\\nTSTARTI =                  735 / Integer portion of time of the earliest observa\\nTSTARTF =    3.71525425922E-01 / Fractional portion of the time of the earliest\\nTSTOPI  =                 1166 / Integer portion of time of the last obse\\nTSTOPF  =  2.62197425924000E-01 / Fractional portion of the time of the la\\nTIMEZERO=  0.000000000000000E+00 / Zero time to use when calculating absolute ti\\nCHECKSUM= '5KA98H865HA65H56'   / HDU checksum updated 1999-04-22T18:07:46\\nDATASUM = '3339642929'         / data unit checksum updated 1999-04-22T18:07:46\\nEND\\n \\n        TIME                    RATE            ERROR\\n        d                       counts/s        counts/s\\n      1   7.353720464259241E+02   2.3594639E+01   1.3094280E+00\\n      2   7.353731574259291E+02   2.3850025E+01   1.5160930E+00\\n\""
      ]
     },
     "execution_count": 34,
     "metadata": {},
     "output_type": "execute_result"
    }
   ],
   "source": [
    "result=hsp.fdump(infile=\"../tests/my_rate.fit\",outfile='STDOUT',columns='-',rows='1-2',more='yes')\n",
    "result.stdout"
   ]
  },
  {
   "cell_type": "markdown",
   "metadata": {},
   "source": [
    "Now set a parameter to change its behavior and not print the header keywords.  Make sure that this change is picked up.  Currently, the command line is not constructed with all parameters in the pfile, so this works only because the ftool is doing this behind the scenes.  "
   ]
  },
  {
   "cell_type": "code",
   "execution_count": 35,
   "metadata": {},
   "outputs": [
    {
     "data": {
      "text/plain": [
       "0"
      ]
     },
     "execution_count": 35,
     "metadata": {},
     "output_type": "execute_result"
    }
   ],
   "source": [
    "os.system(\"pset fdump prhead=no\")"
   ]
  },
  {
   "cell_type": "markdown",
   "metadata": {},
   "source": [
    "<font color=green>The above runs correctly using prhead=no</font>"
   ]
  },
  {
   "cell_type": "code",
   "execution_count": 36,
   "metadata": {},
   "outputs": [
    {
     "data": {
      "text/plain": [
       "' \\n \\n        RATE\\n        counts/s\\n      1   2.3594639E+01\\n      2   2.3850025E+01\\n'"
      ]
     },
     "execution_count": 36,
     "metadata": {},
     "output_type": "execute_result"
    }
   ],
   "source": [
    "#  Doesn't work anymore\n",
    "#  hsp.fdump(**result.params)\n",
    "result=hsp.fdump(infile=\"../tests/my_rate.fit\",outfile='STDOUT',columns='RATE',rows='1-2',more='yes')\n",
    "result.stdout"
   ]
  },
  {
   "cell_type": "markdown",
   "metadata": {},
   "source": [
    "<font color=green>Check if it learned columns=RATE parameter</yes>"
   ]
  },
  {
   "cell_type": "code",
   "execution_count": 37,
   "metadata": {},
   "outputs": [
    {
     "name": "stdout",
     "output_type": "stream",
     "text": [
      "RATE\r\n"
     ]
    }
   ],
   "source": [
    "!pget fdump columns"
   ]
  },
  {
   "cell_type": "markdown",
   "metadata": {},
   "source": [
    "<font color=red>Now in batch mode, this should *not* know about prhead=no, but it should know about all the other parameters.  This is a mode invented in the requirements doc.  The resulting output file foo.out does not have the header printed, so hsp is taking the prhead parameter from the local PFILES, which is not what I want mode=batch to do.  It should always start from the system pfiles and store no record in the user pfiles.\n",
    "</font>"
   ]
  },
  {
   "cell_type": "code",
   "execution_count": 39,
   "metadata": {},
   "outputs": [
    {
     "data": {
      "text/plain": [
       "' \\n \\n        RATE\\n        counts/s\\n      1   2.3594639E+01\\n      2   2.3850025E+01\\n'"
      ]
     },
     "execution_count": 39,
     "metadata": {},
     "output_type": "execute_result"
    }
   ],
   "source": [
    "result=hsp.fdump(infile=\"../tests/my_rate.fit\",mode=\"batch\",outfile=\"STDOUT\",columns='RATE',rows='1-2',more='yes')\n",
    "result.stdout"
   ]
  },
  {
   "cell_type": "markdown",
   "metadata": {},
   "source": [
    "<font color=red>Do we want basic parameters checked before the system call, e.g., that an integer doesn't get a string or that an infile exists?  This is **not implemented yet** but should give a python exception different from the HeasoftpyExecutionError, such as HeasoftpyParameterError</font>"
   ]
  },
  {
   "cell_type": "code",
   "execution_count": 40,
   "metadata": {},
   "outputs": [
    {
     "ename": "HeasoftpyExecutionError",
     "evalue": "\nError running: fdump\nreturncode: 2\noutput:\nfdump3.5 : could not get PAGEWIDTH parameter\nfdump3.5 : Error Status Returned :    2\nfdump3.5 : unknown error status\n\nfdump3.5 :  ***** FITSIO Error Stack Dump *****\n",
     "output_type": "error",
     "traceback": [
      "\u001b[0;31m---------------------------------------------------------------------------\u001b[0m",
      "\u001b[0;31mHeasoftpyExecutionError\u001b[0m                   Traceback (most recent call last)",
      "\u001b[0;32m<ipython-input-40-1433b31dbaa1>\u001b[0m in \u001b[0;36m<module>\u001b[0;34m\u001b[0m\n\u001b[0;32m----> 1\u001b[0;31m \u001b[0mhsp\u001b[0m\u001b[0;34m.\u001b[0m\u001b[0mfdump\u001b[0m\u001b[0;34m(\u001b[0m\u001b[0minfile\u001b[0m\u001b[0;34m=\u001b[0m\u001b[0;34m\"missing_file.fits\"\u001b[0m\u001b[0;34m,\u001b[0m\u001b[0mpagewidth\u001b[0m\u001b[0;34m=\u001b[0m\u001b[0;34m\"foo\"\u001b[0m\u001b[0;34m,\u001b[0m\u001b[0moutfile\u001b[0m\u001b[0;34m=\u001b[0m\u001b[0;34m'STDOUT'\u001b[0m\u001b[0;34m,\u001b[0m\u001b[0mcolumns\u001b[0m\u001b[0;34m=\u001b[0m\u001b[0;34m'RATE'\u001b[0m\u001b[0;34m,\u001b[0m\u001b[0mrows\u001b[0m\u001b[0;34m=\u001b[0m\u001b[0;34m'1-2'\u001b[0m\u001b[0;34m,\u001b[0m\u001b[0mmore\u001b[0m\u001b[0;34m=\u001b[0m\u001b[0;34m'yes'\u001b[0m\u001b[0;34m)\u001b[0m\u001b[0;34m\u001b[0m\u001b[0;34m\u001b[0m\u001b[0m\n\u001b[0m",
      "\u001b[0;32m~/space/sw/heasoft/heasoftpy/defs/fdump.py\u001b[0m in \u001b[0;36mfdump\u001b[0;34m(**kwargs)\u001b[0m\n\u001b[1;32m     99\u001b[0m     \u001b[0mtask_res\u001b[0m \u001b[0;34m=\u001b[0m \u001b[0mhsp_res\u001b[0m\u001b[0;34m.\u001b[0m\u001b[0mResult\u001b[0m\u001b[0;34m(\u001b[0m\u001b[0mtask_proc\u001b[0m\u001b[0;34m.\u001b[0m\u001b[0mreturncode\u001b[0m\u001b[0;34m,\u001b[0m \u001b[0mtask_out\u001b[0m\u001b[0;34m,\u001b[0m \u001b[0mtask_err\u001b[0m\u001b[0;34m,\u001b[0m \u001b[0mtask_params\u001b[0m\u001b[0;34m)\u001b[0m\u001b[0;34m\u001b[0m\u001b[0;34m\u001b[0m\u001b[0m\n\u001b[1;32m    100\u001b[0m     \u001b[0;32mif\u001b[0m \u001b[0mtask_res\u001b[0m\u001b[0;34m.\u001b[0m\u001b[0mreturncode\u001b[0m\u001b[0;34m:\u001b[0m\u001b[0;34m\u001b[0m\u001b[0;34m\u001b[0m\u001b[0m\n\u001b[0;32m--> 101\u001b[0;31m         \u001b[0;32mraise\u001b[0m \u001b[0mhsp_err\u001b[0m\u001b[0;34m.\u001b[0m\u001b[0mHeasoftpyExecutionError\u001b[0m\u001b[0;34m(\u001b[0m\u001b[0mtask_args\u001b[0m\u001b[0;34m[\u001b[0m\u001b[0;36m0\u001b[0m\u001b[0;34m]\u001b[0m\u001b[0;34m,\u001b[0m \u001b[0mtask_res\u001b[0m\u001b[0;34m)\u001b[0m\u001b[0;34m\u001b[0m\u001b[0;34m\u001b[0m\u001b[0m\n\u001b[0m\u001b[1;32m    102\u001b[0m     \u001b[0;32melse\u001b[0m\u001b[0;34m:\u001b[0m\u001b[0;34m\u001b[0m\u001b[0;34m\u001b[0m\u001b[0m\n\u001b[1;32m    103\u001b[0m         \u001b[0mupdated_par_contents\u001b[0m \u001b[0;34m=\u001b[0m \u001b[0mhsp_ape\u001b[0m\u001b[0;34m.\u001b[0m\u001b[0mread_par_file\u001b[0m\u001b[0;34m(\u001b[0m\u001b[0mpar_path\u001b[0m\u001b[0;34m)\u001b[0m\u001b[0;34m\u001b[0m\u001b[0;34m\u001b[0m\u001b[0m\n",
      "\u001b[0;31mHeasoftpyExecutionError\u001b[0m: \nError running: fdump\nreturncode: 2\noutput:\nfdump3.5 : could not get PAGEWIDTH parameter\nfdump3.5 : Error Status Returned :    2\nfdump3.5 : unknown error status\n\nfdump3.5 :  ***** FITSIO Error Stack Dump *****\n"
     ]
    }
   ],
   "source": [
    "hsp.fdump(infile=\"missing_file.fits\",pagewidth=\"foo\",outfile='STDOUT',columns='RATE',rows='1-2',more='yes')"
   ]
  },
  {
   "cell_type": "code",
   "execution_count": null,
   "metadata": {},
   "outputs": [],
   "source": []
  },
  {
   "cell_type": "code",
   "execution_count": null,
   "metadata": {},
   "outputs": [],
   "source": []
  }
 ],
 "metadata": {
  "kernelspec": {
   "display_name": "Python 3",
   "language": "python",
   "name": "python3"
  },
  "language_info": {
   "codemirror_mode": {
    "name": "ipython",
    "version": 3
   },
   "file_extension": ".py",
   "mimetype": "text/x-python",
   "name": "python",
   "nbconvert_exporter": "python",
   "pygments_lexer": "ipython3",
   "version": "3.7.1"
  }
 },
 "nbformat": 4,
 "nbformat_minor": 4
}
